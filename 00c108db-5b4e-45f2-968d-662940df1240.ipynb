{
 "cells": [
  {
   "cell_type": "markdown",
   "metadata": {},
   "source": [
    "Введение"
   ]
  },
  {
   "cell_type": "markdown",
   "metadata": {},
   "source": [
    "Я — аналитик крупного интернет-магазина. Вместе с отделом маркетинга мы подготовили список гипотез для увеличения выручки.\n",
    "Нужно Приоритизировать гипотезы, запустить A/B-тест и проанализировать результаты. "
   ]
  },
  {
   "cell_type": "markdown",
   "metadata": {},
   "source": [
    "В файле /datasets/hypothesis.csv 9 гипотез по увеличению выручки интернет-магазина с указанными параметрами Reach, Impact, Confidence, Effort."
   ]
  },
  {
   "cell_type": "markdown",
   "metadata": {},
   "source": [
    "Задачи"
   ]
  },
  {
   "cell_type": "markdown",
   "metadata": {},
   "source": [
    "Примените фреймворк ICE для приоритизации гипотез. Отсортируйте их по убыванию приоритета.\n",
    "Примените фреймворк RICE для приоритизации гипотез. Отсортируйте их по убыванию приоритета.\n",
    "Укажите, как изменилась приоритизация гипотез при применении RICE вместо ICE. Объясните, почему так произошло."
   ]
  },
  {
   "cell_type": "markdown",
   "metadata": {},
   "source": [
    "Данные для первой части\n",
    "Файл /datasets/hypothesis.csv. \n",
    "Hypothesis — краткое описание гипотезы;\n",
    "Reach — охват пользователей по 10-балльной шкале;\n",
    "Impact — влияние на пользователей по 10-балльной шкале;\n",
    "Confidence — уверенность в гипотезе по 10-балльной шкале;\n",
    "Efforts — затраты ресурсов на проверку гипотезы по 10-балльной шкале. Чем больше значение Efforts, тем дороже проверка гипотезы."
   ]
  },
  {
   "cell_type": "code",
   "execution_count": 1,
   "metadata": {},
   "outputs": [],
   "source": [
    "import pandas as pd\n",
    "from pandas.plotting import register_matplotlib_converters\n",
    "import datetime as dt\n",
    "from datetime import datetime, timedelta\n",
    "import numpy as np\n",
    "import matplotlib as mp\n",
    "import matplotlib.pyplot as plt\n",
    "import scipy.stats as stats\n",
    "import warnings\n",
    "warnings.filterwarnings(\"ignore\")\n",
    "pd.set_option(\"display.float_format\", \"{:.2f}\".format)\n",
    "register_matplotlib_converters()\n",
    "pd.options.display.max_colwidth = 130"
   ]
  },
  {
   "cell_type": "code",
   "execution_count": 2,
   "metadata": {},
   "outputs": [],
   "source": [
    "data = pd.read_csv('/datasets/hypothesis.csv')\n",
    "orders = pd.read_csv('/datasets/orders.csv')\n",
    "visitors = pd.read_csv('/datasets/visitors.csv')"
   ]
  },
  {
   "cell_type": "code",
   "execution_count": 3,
   "metadata": {},
   "outputs": [
    {
     "name": "stdout",
     "output_type": "stream",
     "text": [
      "                                                                                                     Hypothesis  \\\n",
      "0            Добавить два новых канала привлечения трафика, что позволит привлекать на 30% больше пользователей   \n",
      "1                                     Запустить собственную службу доставки, что сократит срок доставки заказов   \n",
      "2  Добавить блоки рекомендаций товаров на сайт интернет магазина, чтобы повысить конверсию и средний чек заказа   \n",
      "3           Изменить структура категорий, что увеличит конверсию, т.к. пользователи быстрее найдут нужный товар   \n",
      "4                              Изменить цвет фона главной страницы, чтобы увеличить вовлеченность пользователей   \n",
      "5                      Добавить страницу отзывов клиентов о магазине, что позволит увеличить количество заказов   \n",
      "6          Показать на главной странице баннеры с актуальными акциями и распродажами, чтобы увеличить конверсию   \n",
      "7              Добавить форму подписки на все основные страницы, чтобы собрать базу клиентов для email-рассылок   \n",
      "8                                                       Запустить акцию, дающую скидку на товар в день рождения   \n",
      "\n",
      "   Reach  Impact  Confidence  Efforts  \n",
      "0      3      10           8        6  \n",
      "1      2       5           4       10  \n",
      "2      8       3           7        3  \n",
      "3      8       3           3        8  \n",
      "4      3       1           1        1  \n",
      "5      3       2           2        3  \n",
      "6      5       3           8        3  \n",
      "7     10       7           8        5  \n",
      "8      1       9           9        5  \n"
     ]
    }
   ],
   "source": [
    "print (data)"
   ]
  },
  {
   "cell_type": "code",
   "execution_count": 4,
   "metadata": {},
   "outputs": [],
   "source": [
    "def overview_df(list):\n",
    "    for i in range(len(list)):\n",
    "        print(list[i].info())\n",
    "        display(list[i].head())\n",
    "        print('Количество явных дубликатов:', list[i].duplicated().sum())\n",
    "        print('\\nКоличество пропусков в столбцах:\\n')\n",
    "        print(list[i].isna().sum())\n",
    "        print('\\n\\n')\n",
    "    return"
   ]
  },
  {
   "cell_type": "code",
   "execution_count": 5,
   "metadata": {
    "scrolled": false
   },
   "outputs": [
    {
     "name": "stdout",
     "output_type": "stream",
     "text": [
      "<class 'pandas.core.frame.DataFrame'>\n",
      "RangeIndex: 9 entries, 0 to 8\n",
      "Data columns (total 5 columns):\n",
      " #   Column      Non-Null Count  Dtype \n",
      "---  ------      --------------  ----- \n",
      " 0   Hypothesis  9 non-null      object\n",
      " 1   Reach       9 non-null      int64 \n",
      " 2   Impact      9 non-null      int64 \n",
      " 3   Confidence  9 non-null      int64 \n",
      " 4   Efforts     9 non-null      int64 \n",
      "dtypes: int64(4), object(1)\n",
      "memory usage: 488.0+ bytes\n",
      "None\n"
     ]
    },
    {
     "data": {
      "text/html": [
       "<div>\n",
       "<style scoped>\n",
       "    .dataframe tbody tr th:only-of-type {\n",
       "        vertical-align: middle;\n",
       "    }\n",
       "\n",
       "    .dataframe tbody tr th {\n",
       "        vertical-align: top;\n",
       "    }\n",
       "\n",
       "    .dataframe thead th {\n",
       "        text-align: right;\n",
       "    }\n",
       "</style>\n",
       "<table border=\"1\" class=\"dataframe\">\n",
       "  <thead>\n",
       "    <tr style=\"text-align: right;\">\n",
       "      <th></th>\n",
       "      <th>Hypothesis</th>\n",
       "      <th>Reach</th>\n",
       "      <th>Impact</th>\n",
       "      <th>Confidence</th>\n",
       "      <th>Efforts</th>\n",
       "    </tr>\n",
       "  </thead>\n",
       "  <tbody>\n",
       "    <tr>\n",
       "      <th>0</th>\n",
       "      <td>Добавить два новых канала привлечения трафика, что позволит привлекать на 30% больше пользователей</td>\n",
       "      <td>3</td>\n",
       "      <td>10</td>\n",
       "      <td>8</td>\n",
       "      <td>6</td>\n",
       "    </tr>\n",
       "    <tr>\n",
       "      <th>1</th>\n",
       "      <td>Запустить собственную службу доставки, что сократит срок доставки заказов</td>\n",
       "      <td>2</td>\n",
       "      <td>5</td>\n",
       "      <td>4</td>\n",
       "      <td>10</td>\n",
       "    </tr>\n",
       "    <tr>\n",
       "      <th>2</th>\n",
       "      <td>Добавить блоки рекомендаций товаров на сайт интернет магазина, чтобы повысить конверсию и средний чек заказа</td>\n",
       "      <td>8</td>\n",
       "      <td>3</td>\n",
       "      <td>7</td>\n",
       "      <td>3</td>\n",
       "    </tr>\n",
       "    <tr>\n",
       "      <th>3</th>\n",
       "      <td>Изменить структура категорий, что увеличит конверсию, т.к. пользователи быстрее найдут нужный товар</td>\n",
       "      <td>8</td>\n",
       "      <td>3</td>\n",
       "      <td>3</td>\n",
       "      <td>8</td>\n",
       "    </tr>\n",
       "    <tr>\n",
       "      <th>4</th>\n",
       "      <td>Изменить цвет фона главной страницы, чтобы увеличить вовлеченность пользователей</td>\n",
       "      <td>3</td>\n",
       "      <td>1</td>\n",
       "      <td>1</td>\n",
       "      <td>1</td>\n",
       "    </tr>\n",
       "  </tbody>\n",
       "</table>\n",
       "</div>"
      ],
      "text/plain": [
       "                                                                                                     Hypothesis  \\\n",
       "0            Добавить два новых канала привлечения трафика, что позволит привлекать на 30% больше пользователей   \n",
       "1                                     Запустить собственную службу доставки, что сократит срок доставки заказов   \n",
       "2  Добавить блоки рекомендаций товаров на сайт интернет магазина, чтобы повысить конверсию и средний чек заказа   \n",
       "3           Изменить структура категорий, что увеличит конверсию, т.к. пользователи быстрее найдут нужный товар   \n",
       "4                              Изменить цвет фона главной страницы, чтобы увеличить вовлеченность пользователей   \n",
       "\n",
       "   Reach  Impact  Confidence  Efforts  \n",
       "0      3      10           8        6  \n",
       "1      2       5           4       10  \n",
       "2      8       3           7        3  \n",
       "3      8       3           3        8  \n",
       "4      3       1           1        1  "
      ]
     },
     "metadata": {},
     "output_type": "display_data"
    },
    {
     "name": "stdout",
     "output_type": "stream",
     "text": [
      "Количество явных дубликатов: 0\n",
      "\n",
      "Количество пропусков в столбцах:\n",
      "\n",
      "Hypothesis    0\n",
      "Reach         0\n",
      "Impact        0\n",
      "Confidence    0\n",
      "Efforts       0\n",
      "dtype: int64\n",
      "\n",
      "\n",
      "\n",
      "<class 'pandas.core.frame.DataFrame'>\n",
      "RangeIndex: 1197 entries, 0 to 1196\n",
      "Data columns (total 5 columns):\n",
      " #   Column         Non-Null Count  Dtype \n",
      "---  ------         --------------  ----- \n",
      " 0   transactionId  1197 non-null   int64 \n",
      " 1   visitorId      1197 non-null   int64 \n",
      " 2   date           1197 non-null   object\n",
      " 3   revenue        1197 non-null   int64 \n",
      " 4   group          1197 non-null   object\n",
      "dtypes: int64(3), object(2)\n",
      "memory usage: 46.9+ KB\n",
      "None\n"
     ]
    },
    {
     "data": {
      "text/html": [
       "<div>\n",
       "<style scoped>\n",
       "    .dataframe tbody tr th:only-of-type {\n",
       "        vertical-align: middle;\n",
       "    }\n",
       "\n",
       "    .dataframe tbody tr th {\n",
       "        vertical-align: top;\n",
       "    }\n",
       "\n",
       "    .dataframe thead th {\n",
       "        text-align: right;\n",
       "    }\n",
       "</style>\n",
       "<table border=\"1\" class=\"dataframe\">\n",
       "  <thead>\n",
       "    <tr style=\"text-align: right;\">\n",
       "      <th></th>\n",
       "      <th>transactionId</th>\n",
       "      <th>visitorId</th>\n",
       "      <th>date</th>\n",
       "      <th>revenue</th>\n",
       "      <th>group</th>\n",
       "    </tr>\n",
       "  </thead>\n",
       "  <tbody>\n",
       "    <tr>\n",
       "      <th>0</th>\n",
       "      <td>3667963787</td>\n",
       "      <td>3312258926</td>\n",
       "      <td>2019-08-15</td>\n",
       "      <td>1650</td>\n",
       "      <td>B</td>\n",
       "    </tr>\n",
       "    <tr>\n",
       "      <th>1</th>\n",
       "      <td>2804400009</td>\n",
       "      <td>3642806036</td>\n",
       "      <td>2019-08-15</td>\n",
       "      <td>730</td>\n",
       "      <td>B</td>\n",
       "    </tr>\n",
       "    <tr>\n",
       "      <th>2</th>\n",
       "      <td>2961555356</td>\n",
       "      <td>4069496402</td>\n",
       "      <td>2019-08-15</td>\n",
       "      <td>400</td>\n",
       "      <td>A</td>\n",
       "    </tr>\n",
       "    <tr>\n",
       "      <th>3</th>\n",
       "      <td>3797467345</td>\n",
       "      <td>1196621759</td>\n",
       "      <td>2019-08-15</td>\n",
       "      <td>9759</td>\n",
       "      <td>B</td>\n",
       "    </tr>\n",
       "    <tr>\n",
       "      <th>4</th>\n",
       "      <td>2282983706</td>\n",
       "      <td>2322279887</td>\n",
       "      <td>2019-08-15</td>\n",
       "      <td>2308</td>\n",
       "      <td>B</td>\n",
       "    </tr>\n",
       "  </tbody>\n",
       "</table>\n",
       "</div>"
      ],
      "text/plain": [
       "   transactionId   visitorId        date  revenue group\n",
       "0     3667963787  3312258926  2019-08-15     1650     B\n",
       "1     2804400009  3642806036  2019-08-15      730     B\n",
       "2     2961555356  4069496402  2019-08-15      400     A\n",
       "3     3797467345  1196621759  2019-08-15     9759     B\n",
       "4     2282983706  2322279887  2019-08-15     2308     B"
      ]
     },
     "metadata": {},
     "output_type": "display_data"
    },
    {
     "name": "stdout",
     "output_type": "stream",
     "text": [
      "Количество явных дубликатов: 0\n",
      "\n",
      "Количество пропусков в столбцах:\n",
      "\n",
      "transactionId    0\n",
      "visitorId        0\n",
      "date             0\n",
      "revenue          0\n",
      "group            0\n",
      "dtype: int64\n",
      "\n",
      "\n",
      "\n",
      "<class 'pandas.core.frame.DataFrame'>\n",
      "RangeIndex: 62 entries, 0 to 61\n",
      "Data columns (total 3 columns):\n",
      " #   Column    Non-Null Count  Dtype \n",
      "---  ------    --------------  ----- \n",
      " 0   date      62 non-null     object\n",
      " 1   group     62 non-null     object\n",
      " 2   visitors  62 non-null     int64 \n",
      "dtypes: int64(1), object(2)\n",
      "memory usage: 1.6+ KB\n",
      "None\n"
     ]
    },
    {
     "data": {
      "text/html": [
       "<div>\n",
       "<style scoped>\n",
       "    .dataframe tbody tr th:only-of-type {\n",
       "        vertical-align: middle;\n",
       "    }\n",
       "\n",
       "    .dataframe tbody tr th {\n",
       "        vertical-align: top;\n",
       "    }\n",
       "\n",
       "    .dataframe thead th {\n",
       "        text-align: right;\n",
       "    }\n",
       "</style>\n",
       "<table border=\"1\" class=\"dataframe\">\n",
       "  <thead>\n",
       "    <tr style=\"text-align: right;\">\n",
       "      <th></th>\n",
       "      <th>date</th>\n",
       "      <th>group</th>\n",
       "      <th>visitors</th>\n",
       "    </tr>\n",
       "  </thead>\n",
       "  <tbody>\n",
       "    <tr>\n",
       "      <th>0</th>\n",
       "      <td>2019-08-01</td>\n",
       "      <td>A</td>\n",
       "      <td>719</td>\n",
       "    </tr>\n",
       "    <tr>\n",
       "      <th>1</th>\n",
       "      <td>2019-08-02</td>\n",
       "      <td>A</td>\n",
       "      <td>619</td>\n",
       "    </tr>\n",
       "    <tr>\n",
       "      <th>2</th>\n",
       "      <td>2019-08-03</td>\n",
       "      <td>A</td>\n",
       "      <td>507</td>\n",
       "    </tr>\n",
       "    <tr>\n",
       "      <th>3</th>\n",
       "      <td>2019-08-04</td>\n",
       "      <td>A</td>\n",
       "      <td>717</td>\n",
       "    </tr>\n",
       "    <tr>\n",
       "      <th>4</th>\n",
       "      <td>2019-08-05</td>\n",
       "      <td>A</td>\n",
       "      <td>756</td>\n",
       "    </tr>\n",
       "  </tbody>\n",
       "</table>\n",
       "</div>"
      ],
      "text/plain": [
       "         date group  visitors\n",
       "0  2019-08-01     A       719\n",
       "1  2019-08-02     A       619\n",
       "2  2019-08-03     A       507\n",
       "3  2019-08-04     A       717\n",
       "4  2019-08-05     A       756"
      ]
     },
     "metadata": {},
     "output_type": "display_data"
    },
    {
     "name": "stdout",
     "output_type": "stream",
     "text": [
      "Количество явных дубликатов: 0\n",
      "\n",
      "Количество пропусков в столбцах:\n",
      "\n",
      "date        0\n",
      "group       0\n",
      "visitors    0\n",
      "dtype: int64\n",
      "\n",
      "\n",
      "\n"
     ]
    }
   ],
   "source": [
    "overview_df([data,orders,visitors])"
   ]
  },
  {
   "cell_type": "code",
   "execution_count": 6,
   "metadata": {},
   "outputs": [],
   "source": [
    "def rename(list):\n",
    "    for i in range(len(list)):\n",
    "        list[i].columns = [x.lower().replace(' ', '_') for x in list[i].columns]\n",
    "    return"
   ]
  },
  {
   "cell_type": "code",
   "execution_count": 7,
   "metadata": {},
   "outputs": [],
   "source": [
    "rename([data,orders,visitors])"
   ]
  },
  {
   "cell_type": "code",
   "execution_count": 8,
   "metadata": {},
   "outputs": [],
   "source": [
    "orders = orders.rename(columns={'transactionid':'orderId', 'visitorid':'userId'})"
   ]
  },
  {
   "cell_type": "code",
   "execution_count": 9,
   "metadata": {},
   "outputs": [],
   "source": [
    "orders['date'] = pd.to_datetime(orders['date'])\n",
    "visitors['date'] = pd.to_datetime(visitors['date'])"
   ]
  },
  {
   "cell_type": "code",
   "execution_count": 10,
   "metadata": {},
   "outputs": [
    {
     "data": {
      "text/plain": [
       "array(['B', 'A'], dtype=object)"
      ]
     },
     "execution_count": 10,
     "metadata": {},
     "output_type": "execute_result"
    }
   ],
   "source": [
    "# Количество групп в АБ тесте\n",
    "orders['group'].unique()"
   ]
  },
  {
   "cell_type": "markdown",
   "metadata": {},
   "source": [
    "Их две - А и Б, логично"
   ]
  },
  {
   "cell_type": "code",
   "execution_count": 11,
   "metadata": {},
   "outputs": [
    {
     "data": {
      "text/html": [
       "<div>\n",
       "<style scoped>\n",
       "    .dataframe tbody tr th:only-of-type {\n",
       "        vertical-align: middle;\n",
       "    }\n",
       "\n",
       "    .dataframe tbody tr th {\n",
       "        vertical-align: top;\n",
       "    }\n",
       "\n",
       "    .dataframe thead th {\n",
       "        text-align: right;\n",
       "    }\n",
       "</style>\n",
       "<table border=\"1\" class=\"dataframe\">\n",
       "  <thead>\n",
       "    <tr style=\"text-align: right;\">\n",
       "      <th></th>\n",
       "      <th>group</th>\n",
       "      <th>userId</th>\n",
       "    </tr>\n",
       "  </thead>\n",
       "  <tbody>\n",
       "    <tr>\n",
       "      <th>0</th>\n",
       "      <td>A</td>\n",
       "      <td>503</td>\n",
       "    </tr>\n",
       "    <tr>\n",
       "      <th>1</th>\n",
       "      <td>B</td>\n",
       "      <td>586</td>\n",
       "    </tr>\n",
       "  </tbody>\n",
       "</table>\n",
       "</div>"
      ],
      "text/plain": [
       "  group  userId\n",
       "0     A     503\n",
       "1     B     586"
      ]
     },
     "execution_count": 11,
     "metadata": {},
     "output_type": "execute_result"
    }
   ],
   "source": [
    "# А теперь количество в каждой группе\n",
    "orders.groupby('group', as_index=False).agg({'userId': pd.Series.nunique})"
   ]
  },
  {
   "cell_type": "code",
   "execution_count": 12,
   "metadata": {},
   "outputs": [
    {
     "data": {
      "image/png": "[encoded data removed]",
      "text/plain": [
       "<Figure size 1080x288 with 1 Axes>"
      ]
     },
     "metadata": {
      "needs_background": "light"
     },
     "output_type": "display_data"
    }
   ],
   "source": [
    "# Динамика посетителей по дням\n",
    "plt.figure(figsize=(15, 4))\n",
    "visitors_A = visitors[visitors['group']=='A']\n",
    "visitors_B = visitors[visitors['group']=='B']\n",
    "plt.plot(visitors_A['date'], visitors_A['visitors'], label='A')\n",
    "plt.plot(visitors_B['date'], visitors_B['visitors'], label='B')\n",
    "plt.legend()\n",
    "plt.xticks(rotation=45)\n",
    "plt.title(\"Динамика посетителей по дням по группам\")\n",
    "plt.ylabel(\"Количество посетителей\")\n",
    "plt.xlabel(\"Дата\")\n",
    "\n",
    "plt.show()"
   ]
  },
  {
   "cell_type": "markdown",
   "metadata": {},
   "source": [
    "Динамика практически идентичная, в диапазоне от 350 до 750"
   ]
  },
  {
   "cell_type": "markdown",
   "metadata": {},
   "source": [
    "ЧАСТЬ 1"
   ]
  },
  {
   "cell_type": "code",
   "execution_count": 13,
   "metadata": {},
   "outputs": [
    {
     "data": {
      "text/html": [
       "<div>\n",
       "<style scoped>\n",
       "    .dataframe tbody tr th:only-of-type {\n",
       "        vertical-align: middle;\n",
       "    }\n",
       "\n",
       "    .dataframe tbody tr th {\n",
       "        vertical-align: top;\n",
       "    }\n",
       "\n",
       "    .dataframe thead th {\n",
       "        text-align: right;\n",
       "    }\n",
       "</style>\n",
       "<table border=\"1\" class=\"dataframe\">\n",
       "  <thead>\n",
       "    <tr style=\"text-align: right;\">\n",
       "      <th></th>\n",
       "      <th>hypothesis</th>\n",
       "      <th>ICE</th>\n",
       "    </tr>\n",
       "  </thead>\n",
       "  <tbody>\n",
       "    <tr>\n",
       "      <th>8</th>\n",
       "      <td>Запустить акцию, дающую скидку на товар в день рождения</td>\n",
       "      <td>16.20</td>\n",
       "    </tr>\n",
       "    <tr>\n",
       "      <th>0</th>\n",
       "      <td>Добавить два новых канала привлечения трафика, что позволит привлекать на 30% больше пользователей</td>\n",
       "      <td>13.33</td>\n",
       "    </tr>\n",
       "    <tr>\n",
       "      <th>7</th>\n",
       "      <td>Добавить форму подписки на все основные страницы, чтобы собрать базу клиентов для email-рассылок</td>\n",
       "      <td>11.20</td>\n",
       "    </tr>\n",
       "    <tr>\n",
       "      <th>6</th>\n",
       "      <td>Показать на главной странице баннеры с актуальными акциями и распродажами, чтобы увеличить конверсию</td>\n",
       "      <td>8.00</td>\n",
       "    </tr>\n",
       "    <tr>\n",
       "      <th>2</th>\n",
       "      <td>Добавить блоки рекомендаций товаров на сайт интернет магазина, чтобы повысить конверсию и средний чек заказа</td>\n",
       "      <td>7.00</td>\n",
       "    </tr>\n",
       "    <tr>\n",
       "      <th>1</th>\n",
       "      <td>Запустить собственную службу доставки, что сократит срок доставки заказов</td>\n",
       "      <td>2.00</td>\n",
       "    </tr>\n",
       "    <tr>\n",
       "      <th>5</th>\n",
       "      <td>Добавить страницу отзывов клиентов о магазине, что позволит увеличить количество заказов</td>\n",
       "      <td>1.33</td>\n",
       "    </tr>\n",
       "    <tr>\n",
       "      <th>3</th>\n",
       "      <td>Изменить структура категорий, что увеличит конверсию, т.к. пользователи быстрее найдут нужный товар</td>\n",
       "      <td>1.12</td>\n",
       "    </tr>\n",
       "    <tr>\n",
       "      <th>4</th>\n",
       "      <td>Изменить цвет фона главной страницы, чтобы увеличить вовлеченность пользователей</td>\n",
       "      <td>1.00</td>\n",
       "    </tr>\n",
       "  </tbody>\n",
       "</table>\n",
       "</div>"
      ],
      "text/plain": [
       "                                                                                                     hypothesis  \\\n",
       "8                                                       Запустить акцию, дающую скидку на товар в день рождения   \n",
       "0            Добавить два новых канала привлечения трафика, что позволит привлекать на 30% больше пользователей   \n",
       "7              Добавить форму подписки на все основные страницы, чтобы собрать базу клиентов для email-рассылок   \n",
       "6          Показать на главной странице баннеры с актуальными акциями и распродажами, чтобы увеличить конверсию   \n",
       "2  Добавить блоки рекомендаций товаров на сайт интернет магазина, чтобы повысить конверсию и средний чек заказа   \n",
       "1                                     Запустить собственную службу доставки, что сократит срок доставки заказов   \n",
       "5                      Добавить страницу отзывов клиентов о магазине, что позволит увеличить количество заказов   \n",
       "3           Изменить структура категорий, что увеличит конверсию, т.к. пользователи быстрее найдут нужный товар   \n",
       "4                              Изменить цвет фона главной страницы, чтобы увеличить вовлеченность пользователей   \n",
       "\n",
       "    ICE  \n",
       "8 16.20  \n",
       "0 13.33  \n",
       "7 11.20  \n",
       "6  8.00  \n",
       "2  7.00  \n",
       "1  2.00  \n",
       "5  1.33  \n",
       "3  1.12  \n",
       "4  1.00  "
      ]
     },
     "metadata": {},
     "output_type": "display_data"
    }
   ],
   "source": [
    "data['ICE'] = data['impact'] * data['confidence']/data['efforts']\n",
    "data['ICE'] = data['ICE'].astype('float')\n",
    "display(data[['hypothesis','ICE']].sort_values(by='ICE', ascending=False))"
   ]
  },
  {
   "cell_type": "markdown",
   "metadata": {},
   "source": [
    "Применив фреймворк ICE мы получили 5 приоритетных гипотез:\n",
    "1)  16.20 Запустить акцию, дающую скидку на товар в день рождения\t\n",
    "2)  13.33 Добавить два новых канала привлечения трафика, что позволит привлекать на 30% больше пользователей\t\n",
    "3)  11.20 Добавить форму подписки на все основные страницы, чтобы собрать базу клиентов для email-рассылок\t\n",
    "4)  8.00 Показать на главной странице баннеры с актуальными акциями и распродажами, чтобы увеличить конверсию\t\n",
    "5)  7.00 Добавить блоки рекомендаций товаров на сайт интернет магазина, чтобы повысить конверсию и средний чек заказа\t"
   ]
  },
  {
   "cell_type": "code",
   "execution_count": 14,
   "metadata": {},
   "outputs": [
    {
     "data": {
      "text/html": [
       "<div>\n",
       "<style scoped>\n",
       "    .dataframe tbody tr th:only-of-type {\n",
       "        vertical-align: middle;\n",
       "    }\n",
       "\n",
       "    .dataframe tbody tr th {\n",
       "        vertical-align: top;\n",
       "    }\n",
       "\n",
       "    .dataframe thead th {\n",
       "        text-align: right;\n",
       "    }\n",
       "</style>\n",
       "<table border=\"1\" class=\"dataframe\">\n",
       "  <thead>\n",
       "    <tr style=\"text-align: right;\">\n",
       "      <th></th>\n",
       "      <th>hypothesis</th>\n",
       "      <th>RICE</th>\n",
       "    </tr>\n",
       "  </thead>\n",
       "  <tbody>\n",
       "    <tr>\n",
       "      <th>7</th>\n",
       "      <td>Добавить форму подписки на все основные страницы, чтобы собрать базу клиентов для email-рассылок</td>\n",
       "      <td>112.00</td>\n",
       "    </tr>\n",
       "    <tr>\n",
       "      <th>2</th>\n",
       "      <td>Добавить блоки рекомендаций товаров на сайт интернет магазина, чтобы повысить конверсию и средний чек заказа</td>\n",
       "      <td>56.00</td>\n",
       "    </tr>\n",
       "    <tr>\n",
       "      <th>0</th>\n",
       "      <td>Добавить два новых канала привлечения трафика, что позволит привлекать на 30% больше пользователей</td>\n",
       "      <td>40.00</td>\n",
       "    </tr>\n",
       "    <tr>\n",
       "      <th>6</th>\n",
       "      <td>Показать на главной странице баннеры с актуальными акциями и распродажами, чтобы увеличить конверсию</td>\n",
       "      <td>40.00</td>\n",
       "    </tr>\n",
       "    <tr>\n",
       "      <th>8</th>\n",
       "      <td>Запустить акцию, дающую скидку на товар в день рождения</td>\n",
       "      <td>16.20</td>\n",
       "    </tr>\n",
       "    <tr>\n",
       "      <th>3</th>\n",
       "      <td>Изменить структура категорий, что увеличит конверсию, т.к. пользователи быстрее найдут нужный товар</td>\n",
       "      <td>9.00</td>\n",
       "    </tr>\n",
       "    <tr>\n",
       "      <th>1</th>\n",
       "      <td>Запустить собственную службу доставки, что сократит срок доставки заказов</td>\n",
       "      <td>4.00</td>\n",
       "    </tr>\n",
       "    <tr>\n",
       "      <th>5</th>\n",
       "      <td>Добавить страницу отзывов клиентов о магазине, что позволит увеличить количество заказов</td>\n",
       "      <td>4.00</td>\n",
       "    </tr>\n",
       "    <tr>\n",
       "      <th>4</th>\n",
       "      <td>Изменить цвет фона главной страницы, чтобы увеличить вовлеченность пользователей</td>\n",
       "      <td>3.00</td>\n",
       "    </tr>\n",
       "  </tbody>\n",
       "</table>\n",
       "</div>"
      ],
      "text/plain": [
       "                                                                                                     hypothesis  \\\n",
       "7              Добавить форму подписки на все основные страницы, чтобы собрать базу клиентов для email-рассылок   \n",
       "2  Добавить блоки рекомендаций товаров на сайт интернет магазина, чтобы повысить конверсию и средний чек заказа   \n",
       "0            Добавить два новых канала привлечения трафика, что позволит привлекать на 30% больше пользователей   \n",
       "6          Показать на главной странице баннеры с актуальными акциями и распродажами, чтобы увеличить конверсию   \n",
       "8                                                       Запустить акцию, дающую скидку на товар в день рождения   \n",
       "3           Изменить структура категорий, что увеличит конверсию, т.к. пользователи быстрее найдут нужный товар   \n",
       "1                                     Запустить собственную службу доставки, что сократит срок доставки заказов   \n",
       "5                      Добавить страницу отзывов клиентов о магазине, что позволит увеличить количество заказов   \n",
       "4                              Изменить цвет фона главной страницы, чтобы увеличить вовлеченность пользователей   \n",
       "\n",
       "    RICE  \n",
       "7 112.00  \n",
       "2  56.00  \n",
       "0  40.00  \n",
       "6  40.00  \n",
       "8  16.20  \n",
       "3   9.00  \n",
       "1   4.00  \n",
       "5   4.00  \n",
       "4   3.00  "
      ]
     },
     "metadata": {},
     "output_type": "display_data"
    }
   ],
   "source": [
    "data['RICE'] = data['reach'] * data['impact'] * data['confidence']/data['efforts']\n",
    "data['RICE'] = data['RICE'].astype('float')\n",
    "display(data[['hypothesis','RICE']].sort_values(by='RICE', ascending=False))"
   ]
  },
  {
   "cell_type": "markdown",
   "metadata": {},
   "source": [
    "Применив фреймворк RICE мы получили 5 приоритетных гипотез:\n",
    "1)  112.00 Добавить форму подписки на все основные страницы, чтобы собрать базу клиентов для email-рассылок\t\n",
    "2)  56.00 Добавить блоки рекомендаций товаров на сайт интернет магазина, чтобы повысить конверсию и средний чек заказа\t\t\n",
    "3)  40.00 Добавить два новых канала привлечения трафика, что позволит привлекать на 30% больше пользователей\t\t\n",
    "4)  40.00 Показать на главной странице баннеры с актуальными акциями и распродажами, чтобы увеличить конверсию\t\n",
    "5)  16.20 Запустить акцию, дающую скидку на товар в день рождения\t"
   ]
  },
  {
   "cell_type": "markdown",
   "metadata": {},
   "source": [
    "В отличии от ICE, который использует лишь (Impact, Confidence и Efforts), фреймворк RICE использует в качестве параметра также и охват количества пользователей(Reach), которых затронет предполагаемое изменение.\n",
    "\n",
    "Очевидно что \"Запустить акцию, дающую скидку на товар в день рождения\" - потенциально выгодное изменение, но коснется оно небольшого числа людей, поэтому RISE выдал ей лишь 5 место по приоритету\n",
    "\n",
    "Теперь выявим гипотезы, вошедшие в оба списка по приоритету первых трех - \n",
    "\n",
    "1) Добавить два новых канала привлечения трафика, что позволит привлекать на 30% больше пользователей;\n",
    "\n",
    "2) Добавить форму подписки на все основные страницы, чтобы собрать базу клиентов для email-рассылок."
   ]
  },
  {
   "cell_type": "markdown",
   "metadata": {},
   "source": [
    "ЧАСТЬ 2"
   ]
  },
  {
   "cell_type": "markdown",
   "metadata": {},
   "source": [
    "Данные для второй части\n",
    "Файл /datasets/orders.csv.\n",
    "transactionId — идентификатор заказа;\n",
    "visitorId — идентификатор пользователя, совершившего заказ;\n",
    "date — дата, когда был совершён заказ;\n",
    "revenue — выручка заказа;\n",
    "group — группа A/B-теста, в которую попал заказ.\n",
    "Файл /datasets/visitors.csv. Скачать датасет\n",
    "date — дата;\n",
    "group — группа A/B-теста;\n",
    "visitors — количество пользователей в указанную дату в указанной группе A/B-теста"
   ]
  },
  {
   "cell_type": "markdown",
   "metadata": {},
   "source": [
    "Я провел A/B-тест и получил результаты, которые описаны в файлах /datasets/orders.csv и /datasets/visitors.csv."
   ]
  },
  {
   "cell_type": "markdown",
   "metadata": {},
   "source": [
    "ЗАДАЧИ"
   ]
  },
  {
   "cell_type": "markdown",
   "metadata": {},
   "source": [
    "Постройте график кумулятивной выручки по группам. Сделайте выводы и предположения.\n",
    "Постройте график кумулятивного среднего чека по группам. Сделайте выводы и предположения.\n",
    "Постройте график относительного изменения кумулятивного среднего чека группы B к группе A. Сделайте выводы и предположения.\n",
    "Постройте график кумулятивного среднего количества заказов на посетителя по группам. Сделайте выводы и предположения.\n",
    "Постройте график относительного изменения кумулятивного среднего количества заказов на посетителя группы B к группе A. Сделайте выводы и предположения.\n",
    "Постройте точечный график количества заказов по пользователям. Сделайте выводы и предположения.\n",
    "Посчитайте 95-й и 99-й перцентили количества заказов на пользователя. Выберите границу для определения аномальных пользователей.\n",
    "Постройте точечный график стоимостей заказов. Сделайте выводы и предположения.\n",
    "Посчитайте 95-й и 99-й перцентили стоимости заказов. Выберите границу для определения аномальных заказов.\n",
    "Посчитайте статистическую значимость различий в среднем количестве заказов на посетителя между группами по «сырым» данным. Сделайте выводы и предположения.\n",
    "Посчитайте статистическую значимость различий в среднем чеке заказа между группами по «сырым» данным. Сделайте выводы и предположения.\n",
    "Посчитайте статистическую значимость различий в среднем количестве заказов на посетителя между группами по «очищенным» данным. Сделайте выводы и предположения.\n",
    "Посчитайте статистическую значимость различий в среднем чеке заказа между группами по «очищенным» данным. Сделайте выводы и предположения.\n",
    "Примите решение по результатам теста и объясните его. Варианты решений:\n",
    "1. Остановить тест, зафиксировать победу одной из групп.\n",
    "2. Остановить тест, зафиксировать отсутствие различий между группами.\n",
    "3. Продолжить тест."
   ]
  },
  {
   "cell_type": "code",
   "execution_count": 15,
   "metadata": {},
   "outputs": [
    {
     "data": {
      "text/html": [
       "<div>\n",
       "<style scoped>\n",
       "    .dataframe tbody tr th:only-of-type {\n",
       "        vertical-align: middle;\n",
       "    }\n",
       "\n",
       "    .dataframe tbody tr th {\n",
       "        vertical-align: top;\n",
       "    }\n",
       "\n",
       "    .dataframe thead th {\n",
       "        text-align: right;\n",
       "    }\n",
       "</style>\n",
       "<table border=\"1\" class=\"dataframe\">\n",
       "  <thead>\n",
       "    <tr style=\"text-align: right;\">\n",
       "      <th></th>\n",
       "      <th>orderId</th>\n",
       "      <th>userId</th>\n",
       "      <th>date</th>\n",
       "      <th>revenue</th>\n",
       "      <th>group</th>\n",
       "    </tr>\n",
       "  </thead>\n",
       "  <tbody>\n",
       "    <tr>\n",
       "      <th>0</th>\n",
       "      <td>3667963787</td>\n",
       "      <td>3312258926</td>\n",
       "      <td>2019-08-15</td>\n",
       "      <td>1650</td>\n",
       "      <td>B</td>\n",
       "    </tr>\n",
       "    <tr>\n",
       "      <th>1</th>\n",
       "      <td>2804400009</td>\n",
       "      <td>3642806036</td>\n",
       "      <td>2019-08-15</td>\n",
       "      <td>730</td>\n",
       "      <td>B</td>\n",
       "    </tr>\n",
       "    <tr>\n",
       "      <th>2</th>\n",
       "      <td>2961555356</td>\n",
       "      <td>4069496402</td>\n",
       "      <td>2019-08-15</td>\n",
       "      <td>400</td>\n",
       "      <td>A</td>\n",
       "    </tr>\n",
       "    <tr>\n",
       "      <th>3</th>\n",
       "      <td>3797467345</td>\n",
       "      <td>1196621759</td>\n",
       "      <td>2019-08-15</td>\n",
       "      <td>9759</td>\n",
       "      <td>B</td>\n",
       "    </tr>\n",
       "    <tr>\n",
       "      <th>4</th>\n",
       "      <td>2282983706</td>\n",
       "      <td>2322279887</td>\n",
       "      <td>2019-08-15</td>\n",
       "      <td>2308</td>\n",
       "      <td>B</td>\n",
       "    </tr>\n",
       "  </tbody>\n",
       "</table>\n",
       "</div>"
      ],
      "text/plain": [
       "      orderId      userId       date  revenue group\n",
       "0  3667963787  3312258926 2019-08-15     1650     B\n",
       "1  2804400009  3642806036 2019-08-15      730     B\n",
       "2  2961555356  4069496402 2019-08-15      400     A\n",
       "3  3797467345  1196621759 2019-08-15     9759     B\n",
       "4  2282983706  2322279887 2019-08-15     2308     B"
      ]
     },
     "metadata": {},
     "output_type": "display_data"
    },
    {
     "data": {
      "text/html": [
       "<div>\n",
       "<style scoped>\n",
       "    .dataframe tbody tr th:only-of-type {\n",
       "        vertical-align: middle;\n",
       "    }\n",
       "\n",
       "    .dataframe tbody tr th {\n",
       "        vertical-align: top;\n",
       "    }\n",
       "\n",
       "    .dataframe thead th {\n",
       "        text-align: right;\n",
       "    }\n",
       "</style>\n",
       "<table border=\"1\" class=\"dataframe\">\n",
       "  <thead>\n",
       "    <tr style=\"text-align: right;\">\n",
       "      <th></th>\n",
       "      <th>date</th>\n",
       "      <th>group</th>\n",
       "      <th>visitors</th>\n",
       "    </tr>\n",
       "  </thead>\n",
       "  <tbody>\n",
       "    <tr>\n",
       "      <th>0</th>\n",
       "      <td>2019-08-01</td>\n",
       "      <td>A</td>\n",
       "      <td>719</td>\n",
       "    </tr>\n",
       "    <tr>\n",
       "      <th>1</th>\n",
       "      <td>2019-08-02</td>\n",
       "      <td>A</td>\n",
       "      <td>619</td>\n",
       "    </tr>\n",
       "    <tr>\n",
       "      <th>2</th>\n",
       "      <td>2019-08-03</td>\n",
       "      <td>A</td>\n",
       "      <td>507</td>\n",
       "    </tr>\n",
       "    <tr>\n",
       "      <th>3</th>\n",
       "      <td>2019-08-04</td>\n",
       "      <td>A</td>\n",
       "      <td>717</td>\n",
       "    </tr>\n",
       "    <tr>\n",
       "      <th>4</th>\n",
       "      <td>2019-08-05</td>\n",
       "      <td>A</td>\n",
       "      <td>756</td>\n",
       "    </tr>\n",
       "  </tbody>\n",
       "</table>\n",
       "</div>"
      ],
      "text/plain": [
       "        date group  visitors\n",
       "0 2019-08-01     A       719\n",
       "1 2019-08-02     A       619\n",
       "2 2019-08-03     A       507\n",
       "3 2019-08-04     A       717\n",
       "4 2019-08-05     A       756"
      ]
     },
     "metadata": {},
     "output_type": "display_data"
    }
   ],
   "source": [
    "display(orders.head())\n",
    "display(visitors.head())"
   ]
  },
  {
   "cell_type": "markdown",
   "metadata": {},
   "source": [
    "Не забудем про предобработку"
   ]
  },
  {
   "cell_type": "code",
   "execution_count": 16,
   "metadata": {},
   "outputs": [
    {
     "data": {
      "text/plain": [
       "1031"
      ]
     },
     "execution_count": 16,
     "metadata": {},
     "output_type": "execute_result"
    }
   ],
   "source": [
    "#Общее количество тестируемых\n",
    "userId_unique_before = len(orders['userId'].unique())\n",
    "userId_unique_before"
   ]
  },
  {
   "cell_type": "code",
   "execution_count": 17,
   "metadata": {
    "scrolled": true
   },
   "outputs": [
    {
     "data": {
      "text/plain": [
       "58"
      ]
     },
     "execution_count": 17,
     "metadata": {},
     "output_type": "execute_result"
    }
   ],
   "source": [
    "#Совпадения в группах А и Б\n",
    "userId_A = orders['userId'].loc[orders['group']=='A'].unique()\n",
    "userId_B = orders['userId'].loc[orders['group']=='B'].unique()\n",
    "userId_A_B = np.intersect1d(userId_A,userId_B)\n",
    "len(userId_A_B)"
   ]
  },
  {
   "cell_type": "code",
   "execution_count": 18,
   "metadata": {},
   "outputs": [
    {
     "data": {
      "text/plain": [
       "count      1197.00\n",
       "mean       8348.01\n",
       "std       39191.13\n",
       "min          50.00\n",
       "25%        1220.00\n",
       "50%        2978.00\n",
       "75%        8290.00\n",
       "max     1294500.00\n",
       "Name: revenue, dtype: float64"
      ]
     },
     "execution_count": 18,
     "metadata": {},
     "output_type": "execute_result"
    }
   ],
   "source": [
    "#Проверим на аномалии\n",
    "orders['revenue'].describe()"
   ]
  },
  {
   "cell_type": "code",
   "execution_count": 19,
   "metadata": {},
   "outputs": [
    {
     "data": {
      "image/png": "[encoded data removed]",
      "text/plain": [
       "<Figure size 1080x360 with 1 Axes>"
      ]
     },
     "metadata": {
      "needs_background": "light"
     },
     "output_type": "display_data"
    }
   ],
   "source": [
    "plt.figure(figsize=(15, 5))\n",
    "orders.loc[:,['revenue']].boxplot()\n",
    "plt.title('График распределния заказов по стоимости', fontsize=14)\n",
    "plt.xlabel('Заказы', fontsize=12)\n",
    "plt.ylabel('Выручка с заказа', fontsize=12)\n",
    "plt.show()"
   ]
  },
  {
   "cell_type": "code",
   "execution_count": null,
   "metadata": {},
   "outputs": [],
   "source": []
  },
  {
   "cell_type": "markdown",
   "metadata": {},
   "source": [
    "Ящик с усами показывает,что есть заказы, далеко выходящие за рамки обычных."
   ]
  },
  {
   "cell_type": "code",
   "execution_count": 20,
   "metadata": {},
   "outputs": [
    {
     "data": {
      "text/html": [
       "<div>\n",
       "<style scoped>\n",
       "    .dataframe tbody tr th:only-of-type {\n",
       "        vertical-align: middle;\n",
       "    }\n",
       "\n",
       "    .dataframe tbody tr th {\n",
       "        vertical-align: top;\n",
       "    }\n",
       "\n",
       "    .dataframe thead th {\n",
       "        text-align: right;\n",
       "    }\n",
       "</style>\n",
       "<table border=\"1\" class=\"dataframe\">\n",
       "  <thead>\n",
       "    <tr style=\"text-align: right;\">\n",
       "      <th></th>\n",
       "      <th>orderId</th>\n",
       "      <th>userId</th>\n",
       "      <th>date</th>\n",
       "      <th>revenue</th>\n",
       "      <th>group</th>\n",
       "    </tr>\n",
       "  </thead>\n",
       "  <tbody>\n",
       "    <tr>\n",
       "      <th>425</th>\n",
       "      <td>590470918</td>\n",
       "      <td>1920142716</td>\n",
       "      <td>2019-08-19</td>\n",
       "      <td>1294500</td>\n",
       "      <td>B</td>\n",
       "    </tr>\n",
       "    <tr>\n",
       "      <th>1196</th>\n",
       "      <td>3936777065</td>\n",
       "      <td>2108080724</td>\n",
       "      <td>2019-08-15</td>\n",
       "      <td>202740</td>\n",
       "      <td>B</td>\n",
       "    </tr>\n",
       "  </tbody>\n",
       "</table>\n",
       "</div>"
      ],
      "text/plain": [
       "         orderId      userId       date  revenue group\n",
       "425    590470918  1920142716 2019-08-19  1294500     B\n",
       "1196  3936777065  2108080724 2019-08-15   202740     B"
      ]
     },
     "execution_count": 20,
     "metadata": {},
     "output_type": "execute_result"
    }
   ],
   "source": [
    "orders.loc[orders['revenue']>200000]"
   ]
  },
  {
   "cell_type": "markdown",
   "metadata": {},
   "source": [
    "Нашлись эти аномалии"
   ]
  },
  {
   "cell_type": "code",
   "execution_count": 21,
   "metadata": {},
   "outputs": [],
   "source": [
    "#Создадим для них отдельную группу \n",
    "userId_MaxRevenue = orders['userId'].loc[orders['revenue']>200000]"
   ]
  },
  {
   "cell_type": "code",
   "execution_count": 22,
   "metadata": {},
   "outputs": [
    {
     "data": {
      "text/plain": [
       "orderId    11\n",
       "dtype: int64"
      ]
     },
     "execution_count": 22,
     "metadata": {},
     "output_type": "execute_result"
    }
   ],
   "source": [
    "#Максимальное количество заказов от одного пользователя\n",
    "orders.pivot_table(index='userId', values='orderId', aggfunc='count').max()"
   ]
  },
  {
   "cell_type": "code",
   "execution_count": 23,
   "metadata": {},
   "outputs": [
    {
     "data": {
      "image/png": "[encoded data removed]",
      "text/plain": [
       "<Figure size 720x216 with 1 Axes>"
      ]
     },
     "metadata": {
      "needs_background": "light"
     },
     "output_type": "display_data"
    }
   ],
   "source": [
    "orders.pivot_table(index='userId', values='orderId', aggfunc='count').plot(kind='hist',\n",
    "                           xticks=range(1, 11),\n",
    "                           bins=11,\n",
    "                           grid=True,\n",
    "                           rot=90,\n",
    "                           title='Распределение пользователей по количеству заказов',\n",
    "                           legend=True,\n",
    "                           figsize=(10, 3));\n",
    "plt.show()"
   ]
  },
  {
   "cell_type": "code",
   "execution_count": 24,
   "metadata": {},
   "outputs": [],
   "source": [
    "#Подавляющее большинство делает не больше двух заказов, при этом заказы в пределах 5 тоже можно считать нормой, остальных\n",
    "#занесем в отдельный список\n",
    "userId_MaxCountOrders = orders.pivot_table(index='userId', values='orderId', aggfunc='count').query('orderId>5').index"
   ]
  },
  {
   "cell_type": "markdown",
   "metadata": {},
   "source": [
    "Исключаем пользователей попавших в групппы А и Б одновременно"
   ]
  },
  {
   "cell_type": "code",
   "execution_count": 25,
   "metadata": {},
   "outputs": [],
   "source": [
    "#Заодно оценим процент потерь\n",
    "orders_len_before = len(orders)\n",
    "orders = orders.loc[((orders['userId'].isin(list(userId_A_B))!=True))]\n",
    "orders_len_after = len(orders)\n",
    "userId_unique_after = len(orders['userId'].unique())"
   ]
  },
  {
   "cell_type": "code",
   "execution_count": 26,
   "metadata": {},
   "outputs": [
    {
     "data": {
      "text/plain": [
       "15.1"
      ]
     },
     "execution_count": 26,
     "metadata": {},
     "output_type": "execute_result"
    }
   ],
   "source": [
    "round(100-100*orders_len_after/orders_len_before,1)"
   ]
  },
  {
   "cell_type": "code",
   "execution_count": 27,
   "metadata": {},
   "outputs": [
    {
     "data": {
      "text/plain": [
       "5.6"
      ]
     },
     "execution_count": 27,
     "metadata": {},
     "output_type": "execute_result"
    }
   ],
   "source": [
    "round(100-100*userId_unique_after/userId_unique_before,1)"
   ]
  },
  {
   "cell_type": "markdown",
   "metadata": {},
   "source": [
    "Мы потеряли 15% записей о заказах и 5,6 процентов уникальных клиентов. Удаляли мы их чтобы провести чистый тест, четко сепарировав группы друг от друга"
   ]
  },
  {
   "cell_type": "code",
   "execution_count": 28,
   "metadata": {},
   "outputs": [
    {
     "data": {
      "image/png": "[encoded data removed]",
      "text/plain": [
       "<Figure size 1080x288 with 1 Axes>"
      ]
     },
     "metadata": {
      "needs_background": "light"
     },
     "output_type": "display_data"
    }
   ],
   "source": [
    "datesGroups = orders[['date', 'group']].drop_duplicates()\n",
    "\n",
    "ordersAggregated = datesGroups.apply(\n",
    "    lambda x: orders[\n",
    "        np.logical_and(\n",
    "            orders['date'] <= x['date'], orders['group'] == x['group']\n",
    "        )\n",
    "    ].agg(\n",
    "        {\n",
    "            'date': 'max',\n",
    "            'group': 'max',\n",
    "            'orderId': 'nunique',\n",
    "            'userId': 'nunique',\n",
    "            'revenue': 'sum',\n",
    "        }\n",
    "    ),\n",
    "    axis=1,\n",
    ").sort_values(by=['date', 'group'])\n",
    "\n",
    "visitorsAggregated = datesGroups.apply(\n",
    "    lambda x: visitors[\n",
    "        np.logical_and(\n",
    "            visitors['date'] <= x['date'], visitors['group'] == x['group']\n",
    "        )\n",
    "    ].agg({'date': 'max', 'group': 'max', 'visitors': 'sum'}),\n",
    "    axis=1,\n",
    ").sort_values(by=['date', 'group'])\n",
    "\n",
    "cumulativeData = ordersAggregated.merge(\n",
    "    visitorsAggregated, left_on=['date', 'group'], right_on=['date', 'group']\n",
    ")\n",
    "cumulativeData.columns = [\n",
    "    'date',\n",
    "    'group',\n",
    "    'orders',\n",
    "    'buyers',\n",
    "    'revenue',\n",
    "    'visitors',\n",
    "]\n",
    "\n",
    "cumulativeRevenueA = cumulativeData[cumulativeData['group']=='A'][['date','revenue', 'orders']]\n",
    "cumulativeRevenueB = cumulativeData[cumulativeData['group']=='B'][['date','revenue', 'orders']]\n",
    "plt.figure(figsize=(15, 4))\n",
    "plt.plot(cumulativeRevenueA['date'], cumulativeRevenueA['revenue'], label='A')\n",
    "plt.plot(cumulativeRevenueB['date'], cumulativeRevenueB['revenue'], label='B')\n",
    "plt.legend()\n",
    "plt.xticks(rotation=45)\n",
    "plt.title(\"График кумулятивной выручки по группам\")\n",
    "plt.ylabel(\"Объем кумулятивной выручки\")\n",
    "plt.xlabel(\"Дата\")\n",
    "plt.show()"
   ]
  },
  {
   "cell_type": "markdown",
   "metadata": {},
   "source": [
    "Выручка равномерно увеличивалась в течение всего периода, после 17 августа у группы  Б она внезпно резко выросла - возможно дело в размере чека - но может быть и в количестве чеков"
   ]
  },
  {
   "cell_type": "code",
   "execution_count": 29,
   "metadata": {},
   "outputs": [
    {
     "data": {
      "image/png": "[encoded data removed]",
      "text/plain": [
       "<Figure size 1080x288 with 1 Axes>"
      ]
     },
     "metadata": {
      "needs_background": "light"
     },
     "output_type": "display_data"
    }
   ],
   "source": [
    "plt.figure(figsize=(15, 4))\n",
    "plt.plot(cumulativeRevenueA['date'], cumulativeRevenueA['revenue']/cumulativeRevenueA['orders'], label='A')\n",
    "plt.plot(cumulativeRevenueB['date'], cumulativeRevenueB['revenue']/cumulativeRevenueB['orders'], label='B')\n",
    "plt.legend()\n",
    "plt.xticks(rotation=45)\n",
    "plt.title(\"График кумулятивного среднего чека по группам\")\n",
    "plt.ylabel(\"Средний чек\")\n",
    "plt.xlabel(\"Дата\")\n",
    "plt.show()"
   ]
  },
  {
   "cell_type": "markdown",
   "metadata": {},
   "source": [
    "В начале периода кумулятивный средний чек колебался, 17 августа чек у группы Б внезпано подскочил - но после начал свое планомерное снижение, возможно он стремится к показателям группы А - скорее всего это влияние выбросов, обнаруженных нами ранее"
   ]
  },
  {
   "cell_type": "code",
   "execution_count": 30,
   "metadata": {},
   "outputs": [
    {
     "data": {
      "image/png": "[encoded data removed]",
      "text/plain": [
       "<Figure size 1080x288 with 1 Axes>"
      ]
     },
     "metadata": {
      "needs_background": "light"
     },
     "output_type": "display_data"
    }
   ],
   "source": [
    "mergedCumulativeRevenue = cumulativeRevenueA.merge(cumulativeRevenueB, left_on='date', right_on='date', how='left', suffixes=['A', 'B'])\n",
    "plt.figure(figsize=(15, 4))\n",
    "plt.plot(mergedCumulativeRevenue['date'], (mergedCumulativeRevenue['revenueB']/mergedCumulativeRevenue['ordersB'])/(mergedCumulativeRevenue['revenueA']/mergedCumulativeRevenue['ordersA'])-1)\n",
    "\n",
    "# добавляем ось X\n",
    "plt.axhline(y=0, color='black', linestyle='--')\n",
    "plt.xticks(rotation=45)\n",
    "plt.title(\"График относительного изменения кумулятивного среднего чека группы B к группе A\")\n",
    "plt.ylabel(\"Отношение кумулятивного среднего чека В к А\")\n",
    "plt.xlabel(\"Дата\")\n",
    "plt.show()"
   ]
  },
  {
   "cell_type": "markdown",
   "metadata": {},
   "source": [
    "Средний чек группы Б существенно превышает средний чек Группы А. Почему? Хороший вопрос..."
   ]
  },
  {
   "cell_type": "code",
   "execution_count": 31,
   "metadata": {},
   "outputs": [
    {
     "data": {
      "image/png": "[encoded data removed]",
      "text/plain": [
       "<Figure size 1080x288 with 1 Axes>"
      ]
     },
     "metadata": {
      "needs_background": "light"
     },
     "output_type": "display_data"
    }
   ],
   "source": [
    "cumulativeData['conversion'] = cumulativeData['orders']/cumulativeData['visitors']\n",
    "cumulativeDataA = cumulativeData[cumulativeData['group']=='A']\n",
    "cumulativeDataB = cumulativeData[cumulativeData['group']=='B']\n",
    "plt.figure(figsize=(15, 4))\n",
    "plt.plot(cumulativeDataA['date'], cumulativeDataA['conversion'], label='A')\n",
    "plt.plot(cumulativeDataB['date'], cumulativeDataB['conversion'], label='B')\n",
    "plt.legend()\n",
    "plt.xticks(rotation=45)\n",
    "plt.title(\"График кумулятивного среднего количества заказов на посетителя по группам\")\n",
    "plt.ylabel(\"Среднее количества заказов на посетителя\")\n",
    "plt.xlabel(\"Дата\")\n",
    "plt.show()"
   ]
  },
  {
   "cell_type": "markdown",
   "metadata": {},
   "source": [
    "несмотря на то, что среднее количество заказов у группы А изначально было больше - в начале исследуемого периода группа Б показала хорошую динамику, которая потом стала стабильной и ровной - а вот группа А в начале периода показала падение ,но потом тоже выровнялась, хотя и на уровне заметно более никзом, нежели группа Б."
   ]
  },
  {
   "cell_type": "code",
   "execution_count": 32,
   "metadata": {},
   "outputs": [
    {
     "data": {
      "image/png": "[encoded data removed]",
      "text/plain": [
       "<Figure size 1080x288 with 1 Axes>"
      ]
     },
     "metadata": {
      "needs_background": "light"
     },
     "output_type": "display_data"
    }
   ],
   "source": [
    "mergedCumulativeConversions = cumulativeDataA[['date','conversion']].merge(cumulativeDataB[['date','conversion']], left_on='date', right_on='date', how='left', suffixes=['A', 'B'])\n",
    "plt.figure(figsize=(15, 4))\n",
    "plt.plot(mergedCumulativeConversions['date'], mergedCumulativeConversions['conversionB']/mergedCumulativeConversions['conversionA']-1,  label=\"Относительный прирост среднего количества заказов на посетителя группы B относительно группы A\")\n",
    "plt.legend()\n",
    "\n",
    "plt.axhline(y=0, color='black', linestyle='--')\n",
    "plt.axhline(y=0.21, color='grey', linestyle='--')\n",
    "plt.xticks(rotation=45)\n",
    "plt.title(\"График относительного изменения кумулятивного среднего количества заказов на посетителя группы B к группе A\")\n",
    "plt.ylabel(\"Отношение среднего количества заказов на посетителя В к А\")\n",
    "plt.xlabel(\"Дата\")\n",
    "plt.show()"
   ]
  },
  {
   "cell_type": "markdown",
   "metadata": {},
   "source": [
    "Среднее количество заказов у группы Б изначально было меньше, но после 5 августа Группа Б обогнала Группу А"
   ]
  },
  {
   "cell_type": "code",
   "execution_count": 33,
   "metadata": {},
   "outputs": [],
   "source": [
    "ordersByUsers = (\n",
    "    orders.groupby('userId', as_index=False)\n",
    "    .agg({'orderId': 'nunique'})\n",
    ")\n",
    "ordersByUsers.columns = ['userId', 'orders']"
   ]
  },
  {
   "cell_type": "code",
   "execution_count": 34,
   "metadata": {},
   "outputs": [
    {
     "data": {
      "image/png": "[encoded data removed]",
      "text/plain": [
       "<Figure size 1080x288 with 1 Axes>"
      ]
     },
     "metadata": {
      "needs_background": "light"
     },
     "output_type": "display_data"
    }
   ],
   "source": [
    "x_values = pd.Series(range(0, len(ordersByUsers)))\n",
    "plt.figure(figsize=(15, 4))\n",
    "plt.scatter(x_values, ordersByUsers['orders'])\n",
    "plt.title(\"Точечный график количества заказов по пользователям\")\n",
    "plt.ylabel(\"Количество заказов\")\n",
    "plt.xlabel(\"Пользователи\")\n",
    "plt.show()"
   ]
  },
  {
   "cell_type": "markdown",
   "metadata": {},
   "source": [
    "Чаще всего делался один заказ - реже два, а еще реже - три"
   ]
  },
  {
   "cell_type": "code",
   "execution_count": 35,
   "metadata": {},
   "outputs": [
    {
     "data": {
      "text/plain": [
       "array([1., 2.])"
      ]
     },
     "execution_count": 35,
     "metadata": {},
     "output_type": "execute_result"
    }
   ],
   "source": [
    "np.percentile(ordersByUsers['orders'], [95, 99])"
   ]
  },
  {
   "cell_type": "markdown",
   "metadata": {},
   "source": [
    "Пользователи, которые делали три заказа составляют менее 1% от общего числа. Граница 99 перцентиля составляет 2 заказа на пользователя. В качестве нижней границы аномалий я бы выбрал 3 заказа"
   ]
  },
  {
   "cell_type": "code",
   "execution_count": 36,
   "metadata": {},
   "outputs": [
    {
     "data": {
      "image/png": "[encoded data removed]",
      "text/plain": [
       "<Figure size 1440x720 with 1 Axes>"
      ]
     },
     "metadata": {
      "needs_background": "light"
     },
     "output_type": "display_data"
    }
   ],
   "source": [
    "x_values = pd.Series(range(0, len(orders['revenue'])))\n",
    "plt.figure(figsize=(20, 10))\n",
    "plt.scatter(x_values, orders['revenue'])\n",
    "plt.title(\"Точечный график стоимостей заказов по пользователям\")\n",
    "plt.ylabel(\"Стоимость заказа\")\n",
    "plt.xlabel(\"Пользователи\")\n",
    "plt.show()"
   ]
  },
  {
   "cell_type": "markdown",
   "metadata": {},
   "source": [
    "На графике видны аномалии, при этом я предлагаю брать за аномалии заказы со стоимостью от 53 000"
   ]
  },
  {
   "cell_type": "code",
   "execution_count": 37,
   "metadata": {},
   "outputs": [
    {
     "data": {
      "text/plain": [
       "array([26785., 53904.])"
      ]
     },
     "execution_count": 37,
     "metadata": {},
     "output_type": "execute_result"
    }
   ],
   "source": [
    "np.percentile(orders['revenue'], [95, 99])"
   ]
  },
  {
   "cell_type": "markdown",
   "metadata": {},
   "source": [
    "99% всех заказов укладываются в стоимость 53 904. Заказы выше этой суммы составляют менее 1 % от общего числа заказов."
   ]
  },
  {
   "cell_type": "markdown",
   "metadata": {},
   "source": [
    "Подготовим данные и сформулируем гипотезы - нулевая (различий в среднем количестве заказов между группами нет.) и Альтернативная - (различия в среднем между группами есть.)"
   ]
  },
  {
   "cell_type": "markdown",
   "metadata": {},
   "source": [
    "Выбранный мною уровень статистической значимости составляет 5%, а проводимый тест - тест Манна-Уитни"
   ]
  },
  {
   "cell_type": "code",
   "execution_count": 38,
   "metadata": {},
   "outputs": [],
   "source": [
    "visitorsADaily = visitors[visitors['group'] == 'A'][['date', 'visitors']]\n",
    "visitorsADaily.columns = ['date', 'visitorsPerDateA']\n",
    "\n",
    "visitorsACummulative = visitorsADaily.apply(\n",
    "    lambda x: visitorsADaily[visitorsADaily['date'] <= x['date']].agg(\n",
    "        {'date': 'max', 'visitorsPerDateA': 'sum'}\n",
    "    ),\n",
    "    axis=1,\n",
    ")\n",
    "visitorsACummulative.columns = ['date', 'visitorsCummulativeA']\n",
    "\n",
    "visitorsBDaily = visitors[visitors['group'] == 'B'][['date', 'visitors']]\n",
    "visitorsBDaily.columns = ['date', 'visitorsPerDateB']\n",
    "\n",
    "visitorsBCummulative = visitorsBDaily.apply(\n",
    "    lambda x: visitorsBDaily[visitorsBDaily['date'] <= x['date']].agg(\n",
    "        {'date': 'max', 'visitorsPerDateB': 'sum'}\n",
    "    ),\n",
    "    axis=1,\n",
    ")\n",
    "visitorsBCummulative.columns = ['date', 'visitorsCummulativeB']\n",
    "\n",
    "ordersADaily = (\n",
    "    orders[orders['group'] == 'A'][['date', 'orderId', 'userId', 'revenue']]\n",
    "    .groupby('date', as_index=False)\n",
    "    .agg({'orderId': pd.Series.nunique, 'revenue': 'sum'})\n",
    ")\n",
    "ordersADaily.columns = ['date', 'ordersPerDateA', 'revenuePerDateA']\n",
    "\n",
    "ordersACummulative = ordersADaily.apply(\n",
    "    lambda x: ordersADaily[ordersADaily['date'] <= x['date']].agg(\n",
    "        {'date': 'max', 'ordersPerDateA': 'sum', 'revenuePerDateA': 'sum'}\n",
    "    ),\n",
    "    axis=1,\n",
    ").sort_values(by=['date'])\n",
    "ordersACummulative.columns = [\n",
    "    'date',\n",
    "    'ordersCummulativeA',\n",
    "    'revenueCummulativeA',\n",
    "]\n",
    "\n",
    "ordersBDaily = (\n",
    "    orders[orders['group'] == 'B'][['date', 'orderId', 'userId', 'revenue']]\n",
    "    .groupby('date', as_index=False)\n",
    "    .agg({'orderId': pd.Series.nunique, 'revenue': 'sum'})\n",
    ")\n",
    "ordersBDaily.columns = ['date', 'ordersPerDateB', 'revenuePerDateB']\n",
    "\n",
    "ordersBCummulative = ordersBDaily.apply(\n",
    "    lambda x: ordersBDaily[ordersBDaily['date'] <= x['date']].agg(\n",
    "        {'date': 'max', 'ordersPerDateB': 'sum', 'revenuePerDateB': 'sum'}\n",
    "    ),\n",
    "    axis=1,\n",
    ").sort_values(by=['date'])\n",
    "ordersBCummulative.columns = [\n",
    "    'date',\n",
    "    'ordersCummulativeB',\n",
    "    'revenueCummulativeB',\n",
    "]\n",
    "\n",
    "data = (\n",
    "    ordersADaily.merge(\n",
    "        ordersBDaily, left_on='date', right_on='date', how='left'\n",
    "    )\n",
    "    .merge(ordersACummulative, left_on='date', right_on='date', how='left')\n",
    "    .merge(ordersBCummulative, left_on='date', right_on='date', how='left')\n",
    "    .merge(visitorsADaily, left_on='date', right_on='date', how='left')\n",
    "    .merge(visitorsBDaily, left_on='date', right_on='date', how='left')\n",
    "    .merge(visitorsACummulative, left_on='date', right_on='date', how='left')\n",
    "    .merge(visitorsBCummulative, left_on='date', right_on='date', how='left')\n",
    ")\n",
    "\n",
    "ordersByUsersA = (\n",
    "    orders[orders['group'] == 'A']\n",
    "    .groupby('userId', as_index=False)\n",
    "    .agg({'orderId': pd.Series.nunique})\n",
    ")\n",
    "ordersByUsersA.columns = ['userId', 'orders']\n",
    "\n",
    "ordersByUsersB = (\n",
    "    orders[orders['group'] == 'B']\n",
    "    .groupby('userId', as_index=False)\n",
    "    .agg({'orderId': pd.Series.nunique})\n",
    ")\n",
    "ordersByUsersB.columns = ['userId', 'orders']\n",
    "\n",
    "sampleA = pd.concat(\n",
    "    [\n",
    "        ordersByUsersA['orders'],\n",
    "        pd.Series(\n",
    "            0,\n",
    "            index=np.arange(\n",
    "                data['visitorsPerDateA'].sum() - len(ordersByUsersA['orders'])\n",
    "            ),\n",
    "            name='orders',\n",
    "        ),\n",
    "    ],\n",
    "    axis=0,\n",
    ")\n",
    "\n",
    "sampleB = pd.concat(\n",
    "    [\n",
    "        ordersByUsersB['orders'],\n",
    "        pd.Series(\n",
    "            0,\n",
    "            index=np.arange(\n",
    "                data['visitorsPerDateB'].sum() - len(ordersByUsersB['orders'])\n",
    "            ),\n",
    "            name='orders',\n",
    "        ),\n",
    "    ],\n",
    "    axis=0,\n",
    ")\n"
   ]
  },
  {
   "cell_type": "markdown",
   "metadata": {},
   "source": [
    "Сформулируем гипотезы. Нулевая: различий в среднем количестве заказов между группами нет. Альтернативная: различия в среднем между группами есть."
   ]
  },
  {
   "cell_type": "code",
   "execution_count": 39,
   "metadata": {},
   "outputs": [
    {
     "name": "stdout",
     "output_type": "stream",
     "text": [
      "0.01102\n"
     ]
    }
   ],
   "source": [
    "print(\"{0:.5f}\".format(stats.mannwhitneyu(sampleA, sampleB)[1]))"
   ]
  },
  {
   "cell_type": "markdown",
   "metadata": {},
   "source": [
    "Нулевая гипотеза отвергается в пользу альтернативной, так как 0.01<0.05"
   ]
  },
  {
   "cell_type": "code",
   "execution_count": 40,
   "metadata": {},
   "outputs": [
    {
     "name": "stdout",
     "output_type": "stream",
     "text": [
      "0.160\n"
     ]
    }
   ],
   "source": [
    "print(\"{0:.3f}\".format((data['ordersPerDateB'].sum()/data['visitorsPerDateB'].sum())/(data['ordersPerDateA'].sum()/data['visitorsPerDateA'].sum())-1))"
   ]
  },
  {
   "cell_type": "markdown",
   "metadata": {},
   "source": [
    "Количество заказов на пользователя в группе Б на 16% превышает аналогичный показатель группы А"
   ]
  },
  {
   "cell_type": "markdown",
   "metadata": {},
   "source": [
    "Нулевая гипотеза - статистически значимых различий в среднем чеке заказа между группами  нет\n",
    "Альтернативная - различия между группами есть."
   ]
  },
  {
   "cell_type": "code",
   "execution_count": 41,
   "metadata": {},
   "outputs": [
    {
     "name": "stdout",
     "output_type": "stream",
     "text": [
      "0.829\n"
     ]
    }
   ],
   "source": [
    "print('{0:.3f}'.format(stats.mannwhitneyu(orders[orders['group']=='A']['revenue'], orders[orders['group']=='B']['revenue'])[1]))"
   ]
  },
  {
   "cell_type": "markdown",
   "metadata": {},
   "source": [
    "0.829 > 0.05. Значит, причин отвергать нулевую гипотезу и считать, что в среднем чеке есть различия, нет"
   ]
  },
  {
   "cell_type": "code",
   "execution_count": 42,
   "metadata": {},
   "outputs": [
    {
     "name": "stdout",
     "output_type": "stream",
     "text": [
      "0.287\n"
     ]
    }
   ],
   "source": [
    "print('{0:.3f}'.format(orders[orders['group']=='B']['revenue'].mean()/orders[orders['group']=='A']['revenue'].mean()-1))"
   ]
  },
  {
   "cell_type": "markdown",
   "metadata": {},
   "source": [
    "разница в среднем чеке между группами составляют 28.7%"
   ]
  },
  {
   "cell_type": "markdown",
   "metadata": {},
   "source": [
    "Посчитаем статистическую значимость различий в среднем количестве заказов на посетителя между группами по «очищенным» данным"
   ]
  },
  {
   "cell_type": "code",
   "execution_count": 43,
   "metadata": {},
   "outputs": [
    {
     "name": "stdout",
     "output_type": "stream",
     "text": [
      "16\n"
     ]
    }
   ],
   "source": [
    "usersWithManyOrders = pd.concat(\n",
    "    [\n",
    "        ordersByUsersA[ordersByUsersA['orders'] > np.percentile(ordersByUsers['orders'], [95, 99])[1]]['userId'],\n",
    "        ordersByUsersB[ordersByUsersB['orders'] > np.percentile(ordersByUsers['orders'], [95, 99])[1]]['userId'],\n",
    "    ],\n",
    "    axis=0,\n",
    ")\n",
    "usersWithExpensiveOrders = orders[orders['revenue'] > np.percentile(orders['revenue'], [95, 99])[1]]['userId']\n",
    "abnormalUsers = (\n",
    "    pd.concat([usersWithManyOrders, usersWithExpensiveOrders], axis=0)\n",
    "    .drop_duplicates()\n",
    "    .sort_values()\n",
    ")\n",
    "print(abnormalUsers.shape[0]) "
   ]
  },
  {
   "cell_type": "markdown",
   "metadata": {},
   "source": [
    "16 пользователей удалены из дальнейшего анализа"
   ]
  },
  {
   "cell_type": "code",
   "execution_count": 44,
   "metadata": {},
   "outputs": [],
   "source": [
    "#подготовим выборки количества заказов по пользователям по группам теста\n",
    "sampleAFiltered = pd.concat(\n",
    "    [\n",
    "        ordersByUsersA[\n",
    "            np.logical_not(ordersByUsersA['userId'].isin(abnormalUsers))\n",
    "        ]['orders'],\n",
    "        pd.Series(\n",
    "            0,\n",
    "            index=np.arange(\n",
    "                data['visitorsPerDateA'].sum() - len(ordersByUsersA['orders'])\n",
    "            ),\n",
    "            name='orders',\n",
    "        ),\n",
    "    ],\n",
    "    axis=0,\n",
    ")\n",
    "\n",
    "sampleBFiltered = pd.concat(\n",
    "    [\n",
    "        ordersByUsersB[\n",
    "            np.logical_not(ordersByUsersB['userId'].isin(abnormalUsers))\n",
    "        ]['orders'],\n",
    "        pd.Series(\n",
    "            0,\n",
    "            index=np.arange(\n",
    "                data['visitorsPerDateB'].sum() - len(ordersByUsersB['orders'])\n",
    "            ),\n",
    "            name='orders',\n",
    "        ),\n",
    "    ],\n",
    "    axis=0,\n",
    ") "
   ]
  },
  {
   "cell_type": "code",
   "execution_count": 45,
   "metadata": {},
   "outputs": [
    {
     "name": "stdout",
     "output_type": "stream",
     "text": [
      "0.007\n"
     ]
    }
   ],
   "source": [
    "print('{0:.3f}'.format(stats.mannwhitneyu(sampleAFiltered, sampleBFiltered)[1]))"
   ]
  },
  {
   "cell_type": "markdown",
   "metadata": {},
   "source": [
    "0.007 < 0.05. Наш предыдущий вывод остается без изменений: нулевую гипотезу о том, что статистически значимых различий в среднем числе заказов между группами нет, отвергаем в пользу альтернативной гипотезы - среднее число заказов на пользователя между группами различается."
   ]
  },
  {
   "cell_type": "code",
   "execution_count": 46,
   "metadata": {},
   "outputs": [
    {
     "name": "stdout",
     "output_type": "stream",
     "text": [
      "0.189\n"
     ]
    }
   ],
   "source": [
    "print('{0:.3f}'.format(sampleBFiltered.mean()/sampleAFiltered.mean()-1))"
   ]
  },
  {
   "cell_type": "markdown",
   "metadata": {},
   "source": [
    "После чистки количество заказов на пользователя в группе Б на 18.9% превышает аналогичный показатель группы А"
   ]
  },
  {
   "cell_type": "code",
   "execution_count": 47,
   "metadata": {},
   "outputs": [
    {
     "name": "stdout",
     "output_type": "stream",
     "text": [
      "0.788\n"
     ]
    }
   ],
   "source": [
    "print(\n",
    "    '{0:.3f}'.format(\n",
    "        stats.mannwhitneyu(\n",
    "            orders[\n",
    "                np.logical_and(\n",
    "                    orders['group'] == 'A',\n",
    "                    np.logical_not(orders['userId'].isin(abnormalUsers)),\n",
    "                )\n",
    "            ]['revenue'],\n",
    "            orders[\n",
    "                np.logical_and(\n",
    "                    orders['group'] == 'B',\n",
    "                    np.logical_not(orders['userId'].isin(abnormalUsers)),\n",
    "                )\n",
    "            ]['revenue'],\n",
    "        )[1]\n",
    "    )\n",
    ")"
   ]
  },
  {
   "cell_type": "markdown",
   "metadata": {},
   "source": [
    "0.788 > 0.05. Значит, причин отвергать нулевую гипотезу и считать, что в среднем чеке есть различия, нет."
   ]
  },
  {
   "cell_type": "code",
   "execution_count": 48,
   "metadata": {},
   "outputs": [
    {
     "name": "stdout",
     "output_type": "stream",
     "text": [
      "0.033\n"
     ]
    }
   ],
   "source": [
    "print(\n",
    "    '{0:.3f}'.format(\n",
    "        \n",
    "            orders[\n",
    "                np.logical_and(\n",
    "                    orders['group'] == 'A',\n",
    "                    np.logical_not(orders['userId'].isin(abnormalUsers)),\n",
    "                )\n",
    "            ]['revenue'].mean() /\n",
    "            orders[\n",
    "                np.logical_and(\n",
    "                    orders['group'] == 'B',\n",
    "                    np.logical_not(orders['userId'].isin(abnormalUsers)),\n",
    "                )\n",
    "            ]['revenue'].mean()-1\n",
    "    )\n",
    ")"
   ]
  },
  {
   "cell_type": "markdown",
   "metadata": {},
   "source": [
    "После чистки различия в среднем чеке между группами не превышают 3.3 процентов"
   ]
  },
  {
   "cell_type": "markdown",
   "metadata": {},
   "source": [
    "Сравнение двух групп показало, что в группе Б количество заказов в расчете на одного пользователя первышает аналогичный показатель группы А. В то же время, средний чек по группам одинаков. Таким образом, можно зафиксировать победу группы Б - следовательно, необходимость в продолжении теста отсутствует."
   ]
  },
  {
   "cell_type": "markdown",
   "metadata": {},
   "source": [
    "Общий вывод:\n",
    "    Поставленные задачи:\n",
    "        приоритизировать гипотезы,\n",
    "        запустить A/B-тест,\n",
    "        проанализировать результаты.\n",
    "\n",
    "\n",
    "Была выполнена предобработка данных\n",
    "В ходе приоритезирования гипотез по фреймворкам ICE и RICE удалось определить наиболее важные из них, сочетая оба вида приоритезирования:\n",
    "\n",
    "1) Добавить два новых канала привлечения трафика, что позволит привлекать на 30% больше пользователей;\n",
    "\n",
    "2) Добавить форму подписки на все основные страницы, чтобы собрать базу клиентов для email-рассылок.\n",
    "\n",
    "Выводы по А\\Б тестам:\n",
    "\n",
    "Кумулятивная вырчка по группам у Групыы Б к концу периода заметно выше, чем у группы А\n",
    "\n",
    "Кумулятивный средний чек выше у группы Б чем у группы А к концу периода\n",
    "\n",
    "кумулятивное среднее количество заказов выше у группы Б, чем  у группы А к концу периода\n",
    "\n",
    "Менее 1% покупателей совершают 3 покупки, они отнесчены к аномалиям\n",
    "\n",
    "Менее 1% покупателей делают заказ на сумму выше  53 904, для красоты мы округлили вниз - и суммы выше отнесли к аномалиям\n",
    "\n",
    "Количество заказов на пользователя в группе Б на 16% превышает аналогичный показатель группы А\n",
    "\n",
    "После чистки количество заказов на пользователя в группе Б на 18.9% превышает аналогичный показатель группы А\n",
    "\n",
    "После чистки различия в среднем чеке между группами не превышают 3.3 процентов\n",
    "\n",
    "\n",
    "Сравнение двух групп показало, что в группе Б количество заказов в расчете на одного пользователя первышает аналогичный показатель группы А. В то же время, средний чек по группам одинаков. Таким образом, можно зафиксировать победу группы Б - следовательно, необходимость в продолжении теста отсутствует."
   ]
  }
 ],
 "metadata": {
  "ExecuteTimeLog": [
   {
    "duration": 1228,
    "start_time": "2023-06-16T12:19:05.639Z"
   },
   {
    "duration": 2,
    "start_time": "2023-06-16T12:19:40.780Z"
   },
   {
    "duration": 3,
    "start_time": "2023-06-16T12:19:48.968Z"
   },
   {
    "duration": 4,
    "start_time": "2023-06-16T12:20:33.346Z"
   },
   {
    "duration": 278,
    "start_time": "2023-06-16T12:20:33.691Z"
   },
   {
    "duration": 8,
    "start_time": "2023-06-16T12:20:34.050Z"
   },
   {
    "duration": 3,
    "start_time": "2023-06-16T12:21:02.294Z"
   },
   {
    "duration": 51,
    "start_time": "2023-06-16T12:21:08.342Z"
   },
   {
    "duration": 1127,
    "start_time": "2023-06-16T12:22:32.144Z"
   },
   {
    "duration": 108,
    "start_time": "2023-06-16T12:22:33.273Z"
   },
   {
    "duration": 0,
    "start_time": "2023-06-16T12:22:33.382Z"
   },
   {
    "duration": 0,
    "start_time": "2023-06-16T12:22:33.383Z"
   },
   {
    "duration": 0,
    "start_time": "2023-06-16T12:22:33.384Z"
   },
   {
    "duration": 1,
    "start_time": "2023-06-16T12:22:33.384Z"
   },
   {
    "duration": 0,
    "start_time": "2023-06-16T12:22:33.385Z"
   },
   {
    "duration": 0,
    "start_time": "2023-06-16T12:22:33.386Z"
   },
   {
    "duration": 0,
    "start_time": "2023-06-16T12:22:33.387Z"
   },
   {
    "duration": 999,
    "start_time": "2023-06-16T12:22:59.871Z"
   },
   {
    "duration": 200,
    "start_time": "2023-06-16T12:23:00.871Z"
   },
   {
    "duration": 0,
    "start_time": "2023-06-16T12:23:01.072Z"
   },
   {
    "duration": 0,
    "start_time": "2023-06-16T12:23:01.073Z"
   },
   {
    "duration": 0,
    "start_time": "2023-06-16T12:23:01.074Z"
   },
   {
    "duration": 0,
    "start_time": "2023-06-16T12:23:01.075Z"
   },
   {
    "duration": 0,
    "start_time": "2023-06-16T12:23:01.076Z"
   },
   {
    "duration": 0,
    "start_time": "2023-06-16T12:23:01.077Z"
   },
   {
    "duration": 0,
    "start_time": "2023-06-16T12:23:01.078Z"
   },
   {
    "duration": 4,
    "start_time": "2023-06-16T12:26:38.735Z"
   },
   {
    "duration": 74,
    "start_time": "2023-06-16T12:26:40.537Z"
   },
   {
    "duration": 8,
    "start_time": "2023-06-16T12:26:43.202Z"
   },
   {
    "duration": 74,
    "start_time": "2023-06-16T12:27:07.331Z"
   },
   {
    "duration": 7,
    "start_time": "2023-06-16T12:27:07.794Z"
   },
   {
    "duration": 4,
    "start_time": "2023-06-16T12:27:13.866Z"
   },
   {
    "duration": 58,
    "start_time": "2023-06-16T12:27:14.317Z"
   },
   {
    "duration": 3,
    "start_time": "2023-06-16T12:27:25.699Z"
   },
   {
    "duration": 4,
    "start_time": "2023-06-16T12:27:26.450Z"
   },
   {
    "duration": 3,
    "start_time": "2023-06-16T12:27:26.939Z"
   },
   {
    "duration": 6,
    "start_time": "2023-06-16T12:27:27.474Z"
   },
   {
    "duration": 60,
    "start_time": "2023-06-16T12:34:01.793Z"
   },
   {
    "duration": 0,
    "start_time": "2023-06-16T12:34:01.855Z"
   },
   {
    "duration": 0,
    "start_time": "2023-06-16T12:34:01.856Z"
   },
   {
    "duration": 0,
    "start_time": "2023-06-16T12:34:01.857Z"
   },
   {
    "duration": 0,
    "start_time": "2023-06-16T12:34:01.858Z"
   },
   {
    "duration": 0,
    "start_time": "2023-06-16T12:34:01.859Z"
   },
   {
    "duration": 0,
    "start_time": "2023-06-16T12:34:01.860Z"
   },
   {
    "duration": 0,
    "start_time": "2023-06-16T12:34:01.861Z"
   },
   {
    "duration": 0,
    "start_time": "2023-06-16T12:34:01.862Z"
   },
   {
    "duration": 0,
    "start_time": "2023-06-16T12:34:01.864Z"
   },
   {
    "duration": 1163,
    "start_time": "2023-06-16T12:34:17.416Z"
   },
   {
    "duration": 89,
    "start_time": "2023-06-16T12:34:18.580Z"
   },
   {
    "duration": 6,
    "start_time": "2023-06-16T12:34:18.670Z"
   },
   {
    "duration": 7,
    "start_time": "2023-06-16T12:34:18.678Z"
   },
   {
    "duration": 62,
    "start_time": "2023-06-16T12:34:18.687Z"
   },
   {
    "duration": 3,
    "start_time": "2023-06-16T12:34:18.751Z"
   },
   {
    "duration": 6,
    "start_time": "2023-06-16T12:34:18.755Z"
   },
   {
    "duration": 17,
    "start_time": "2023-06-16T12:34:18.762Z"
   },
   {
    "duration": 13,
    "start_time": "2023-06-16T12:34:18.780Z"
   },
   {
    "duration": 4,
    "start_time": "2023-06-16T12:35:48.757Z"
   },
   {
    "duration": 11,
    "start_time": "2023-06-16T12:36:41.256Z"
   },
   {
    "duration": 401,
    "start_time": "2023-06-16T12:47:11.534Z"
   },
   {
    "duration": 1204,
    "start_time": "2023-06-16T12:49:27.496Z"
   },
   {
    "duration": 87,
    "start_time": "2023-06-16T12:49:28.702Z"
   },
   {
    "duration": 6,
    "start_time": "2023-06-16T12:49:28.791Z"
   },
   {
    "duration": 8,
    "start_time": "2023-06-16T12:49:28.799Z"
   },
   {
    "duration": 64,
    "start_time": "2023-06-16T12:49:28.809Z"
   },
   {
    "duration": 3,
    "start_time": "2023-06-16T12:49:28.874Z"
   },
   {
    "duration": 12,
    "start_time": "2023-06-16T12:49:28.878Z"
   },
   {
    "duration": 12,
    "start_time": "2023-06-16T12:49:28.891Z"
   },
   {
    "duration": 42,
    "start_time": "2023-06-16T12:49:28.904Z"
   },
   {
    "duration": 13,
    "start_time": "2023-06-16T12:49:28.947Z"
   },
   {
    "duration": 14,
    "start_time": "2023-06-16T12:49:28.961Z"
   },
   {
    "duration": 307,
    "start_time": "2023-06-16T12:49:28.976Z"
   },
   {
    "duration": 11,
    "start_time": "2023-06-16T12:49:29.284Z"
   },
   {
    "duration": 10,
    "start_time": "2023-06-16T12:53:11.090Z"
   },
   {
    "duration": 1094,
    "start_time": "2023-06-16T12:59:29.248Z"
   },
   {
    "duration": 77,
    "start_time": "2023-06-16T12:59:30.344Z"
   },
   {
    "duration": 7,
    "start_time": "2023-06-16T12:59:30.423Z"
   },
   {
    "duration": 46,
    "start_time": "2023-06-16T12:59:30.432Z"
   },
   {
    "duration": 75,
    "start_time": "2023-06-16T12:59:30.480Z"
   },
   {
    "duration": 80,
    "start_time": "2023-06-16T12:59:30.557Z"
   },
   {
    "duration": 33,
    "start_time": "2023-06-16T12:59:30.638Z"
   },
   {
    "duration": 44,
    "start_time": "2023-06-16T12:59:30.672Z"
   },
   {
    "duration": 45,
    "start_time": "2023-06-16T12:59:30.718Z"
   },
   {
    "duration": 58,
    "start_time": "2023-06-16T12:59:30.764Z"
   },
   {
    "duration": 116,
    "start_time": "2023-06-16T12:59:30.823Z"
   },
   {
    "duration": 392,
    "start_time": "2023-06-16T12:59:30.940Z"
   },
   {
    "duration": 12,
    "start_time": "2023-06-16T12:59:31.333Z"
   },
   {
    "duration": 124,
    "start_time": "2023-06-16T12:59:31.346Z"
   },
   {
    "duration": 1127,
    "start_time": "2023-06-16T13:02:04.372Z"
   },
   {
    "duration": 80,
    "start_time": "2023-06-16T13:02:05.501Z"
   },
   {
    "duration": 6,
    "start_time": "2023-06-16T13:02:05.583Z"
   },
   {
    "duration": 25,
    "start_time": "2023-06-16T13:02:05.592Z"
   },
   {
    "duration": 78,
    "start_time": "2023-06-16T13:02:05.619Z"
   },
   {
    "duration": 3,
    "start_time": "2023-06-16T13:02:05.699Z"
   },
   {
    "duration": 35,
    "start_time": "2023-06-16T13:02:05.704Z"
   },
   {
    "duration": 21,
    "start_time": "2023-06-16T13:02:05.740Z"
   },
   {
    "duration": 40,
    "start_time": "2023-06-16T13:02:05.762Z"
   },
   {
    "duration": 10,
    "start_time": "2023-06-16T13:02:05.804Z"
   },
   {
    "duration": 29,
    "start_time": "2023-06-16T13:02:05.815Z"
   },
   {
    "duration": 297,
    "start_time": "2023-06-16T13:02:05.846Z"
   },
   {
    "duration": 11,
    "start_time": "2023-06-16T13:02:06.145Z"
   },
   {
    "duration": 100,
    "start_time": "2023-06-16T13:02:06.157Z"
   },
   {
    "duration": 14,
    "start_time": "2023-06-16T13:02:28.148Z"
   },
   {
    "duration": 3,
    "start_time": "2023-06-16T13:03:14.511Z"
   },
   {
    "duration": 6,
    "start_time": "2023-06-16T13:03:36.219Z"
   },
   {
    "duration": 5,
    "start_time": "2023-06-16T13:03:58.510Z"
   },
   {
    "duration": 1130,
    "start_time": "2023-06-16T13:32:47.147Z"
   },
   {
    "duration": 98,
    "start_time": "2023-06-16T13:32:48.278Z"
   },
   {
    "duration": 6,
    "start_time": "2023-06-16T13:32:48.378Z"
   },
   {
    "duration": 4,
    "start_time": "2023-06-16T13:32:48.386Z"
   },
   {
    "duration": 108,
    "start_time": "2023-06-16T13:32:48.391Z"
   },
   {
    "duration": 3,
    "start_time": "2023-06-16T13:32:48.501Z"
   },
   {
    "duration": 9,
    "start_time": "2023-06-16T13:32:48.506Z"
   },
   {
    "duration": 38,
    "start_time": "2023-06-16T13:32:48.516Z"
   },
   {
    "duration": 9,
    "start_time": "2023-06-16T13:32:48.556Z"
   },
   {
    "duration": 11,
    "start_time": "2023-06-16T13:32:48.568Z"
   },
   {
    "duration": 16,
    "start_time": "2023-06-16T13:32:48.581Z"
   },
   {
    "duration": 342,
    "start_time": "2023-06-16T13:32:48.599Z"
   },
   {
    "duration": 14,
    "start_time": "2023-06-16T13:32:48.943Z"
   },
   {
    "duration": 36,
    "start_time": "2023-06-16T13:32:48.958Z"
   },
   {
    "duration": 40,
    "start_time": "2023-06-16T13:32:48.995Z"
   },
   {
    "duration": 30,
    "start_time": "2023-06-16T13:32:49.036Z"
   },
   {
    "duration": 28,
    "start_time": "2023-06-16T13:32:49.067Z"
   },
   {
    "duration": 145,
    "start_time": "2023-06-16T13:32:49.097Z"
   },
   {
    "duration": 9,
    "start_time": "2023-06-16T13:32:55.666Z"
   },
   {
    "duration": 167,
    "start_time": "2023-06-16T13:33:11.042Z"
   },
   {
    "duration": 15,
    "start_time": "2023-06-16T13:34:16.112Z"
   },
   {
    "duration": 5,
    "start_time": "2023-06-16T13:35:20.147Z"
   },
   {
    "duration": 13,
    "start_time": "2023-06-16T13:35:59.602Z"
   },
   {
    "duration": 175,
    "start_time": "2023-06-16T13:36:12.022Z"
   },
   {
    "duration": 13,
    "start_time": "2023-06-16T13:37:56.273Z"
   },
   {
    "duration": 24,
    "start_time": "2023-06-16T13:41:44.709Z"
   },
   {
    "duration": 9,
    "start_time": "2023-06-16T13:41:45.520Z"
   },
   {
    "duration": 5,
    "start_time": "2023-06-16T13:42:37.186Z"
   },
   {
    "duration": 4,
    "start_time": "2023-06-16T13:42:37.538Z"
   },
   {
    "duration": 467,
    "start_time": "2023-06-16T13:44:20.973Z"
   },
   {
    "duration": 216,
    "start_time": "2023-06-16T13:57:22.044Z"
   },
   {
    "duration": 247,
    "start_time": "2023-06-16T13:59:56.657Z"
   },
   {
    "duration": 222,
    "start_time": "2023-06-16T14:01:29.206Z"
   },
   {
    "duration": 381,
    "start_time": "2023-06-16T14:04:29.929Z"
   },
   {
    "duration": 1024,
    "start_time": "2023-06-16T14:07:25.574Z"
   },
   {
    "duration": 86,
    "start_time": "2023-06-16T14:07:26.599Z"
   },
   {
    "duration": 19,
    "start_time": "2023-06-16T14:07:26.687Z"
   },
   {
    "duration": 55,
    "start_time": "2023-06-16T14:07:26.708Z"
   },
   {
    "duration": 72,
    "start_time": "2023-06-16T14:07:26.765Z"
   },
   {
    "duration": 3,
    "start_time": "2023-06-16T14:07:26.839Z"
   },
   {
    "duration": 13,
    "start_time": "2023-06-16T14:07:26.843Z"
   },
   {
    "duration": 18,
    "start_time": "2023-06-16T14:07:26.857Z"
   },
   {
    "duration": 11,
    "start_time": "2023-06-16T14:07:26.877Z"
   },
   {
    "duration": 15,
    "start_time": "2023-06-16T14:07:26.891Z"
   },
   {
    "duration": 12,
    "start_time": "2023-06-16T14:07:26.907Z"
   },
   {
    "duration": 346,
    "start_time": "2023-06-16T14:07:26.921Z"
   },
   {
    "duration": 11,
    "start_time": "2023-06-16T14:07:27.268Z"
   },
   {
    "duration": 10,
    "start_time": "2023-06-16T14:07:27.280Z"
   },
   {
    "duration": 20,
    "start_time": "2023-06-16T14:07:27.292Z"
   },
   {
    "duration": 29,
    "start_time": "2023-06-16T14:07:27.314Z"
   },
   {
    "duration": 7,
    "start_time": "2023-06-16T14:07:27.344Z"
   },
   {
    "duration": 8,
    "start_time": "2023-06-16T14:07:27.352Z"
   },
   {
    "duration": 114,
    "start_time": "2023-06-16T14:07:27.361Z"
   },
   {
    "duration": 8,
    "start_time": "2023-06-16T14:07:27.476Z"
   },
   {
    "duration": 6,
    "start_time": "2023-06-16T14:07:27.485Z"
   },
   {
    "duration": 14,
    "start_time": "2023-06-16T14:07:27.492Z"
   },
   {
    "duration": 170,
    "start_time": "2023-06-16T14:07:27.520Z"
   },
   {
    "duration": 9,
    "start_time": "2023-06-16T14:07:27.691Z"
   },
   {
    "duration": 29,
    "start_time": "2023-06-16T14:07:27.701Z"
   },
   {
    "duration": 18,
    "start_time": "2023-06-16T14:07:27.731Z"
   },
   {
    "duration": 28,
    "start_time": "2023-06-16T14:07:27.750Z"
   },
   {
    "duration": 469,
    "start_time": "2023-06-16T14:07:27.782Z"
   },
   {
    "duration": 205,
    "start_time": "2023-06-16T14:07:28.253Z"
   },
   {
    "duration": 302,
    "start_time": "2023-06-16T14:07:28.459Z"
   },
   {
    "duration": 234,
    "start_time": "2023-06-16T14:07:28.763Z"
   },
   {
    "duration": 374,
    "start_time": "2023-06-16T14:07:28.998Z"
   },
   {
    "duration": 7,
    "start_time": "2023-06-16T14:08:31.695Z"
   },
   {
    "duration": 218,
    "start_time": "2023-06-16T14:08:32.111Z"
   },
   {
    "duration": 170,
    "start_time": "2023-06-16T14:08:43.870Z"
   },
   {
    "duration": 198,
    "start_time": "2023-06-16T14:09:18.194Z"
   },
   {
    "duration": 5,
    "start_time": "2023-06-16T14:10:14.946Z"
   },
   {
    "duration": 6,
    "start_time": "2023-06-16T14:11:49.022Z"
   },
   {
    "duration": 172,
    "start_time": "2023-06-16T14:12:08.094Z"
   },
   {
    "duration": 6,
    "start_time": "2023-06-16T14:18:31.671Z"
   },
   {
    "duration": 341,
    "start_time": "2023-06-16T14:19:52.737Z"
   },
   {
    "duration": 33,
    "start_time": "2023-06-16T14:21:48.349Z"
   },
   {
    "duration": 4,
    "start_time": "2023-06-16T14:23:13.495Z"
   },
   {
    "duration": 35,
    "start_time": "2023-06-16T14:23:23.104Z"
   },
   {
    "duration": 4,
    "start_time": "2023-06-16T14:23:23.855Z"
   },
   {
    "duration": 9,
    "start_time": "2023-06-16T14:23:55.490Z"
   },
   {
    "duration": 9,
    "start_time": "2023-06-16T14:24:35.193Z"
   },
   {
    "duration": 7,
    "start_time": "2023-06-16T14:25:29.734Z"
   },
   {
    "duration": 11,
    "start_time": "2023-06-16T14:26:35.839Z"
   },
   {
    "duration": 11,
    "start_time": "2023-06-16T14:30:07.961Z"
   },
   {
    "duration": 28,
    "start_time": "2023-06-16T14:30:16.614Z"
   },
   {
    "duration": 4,
    "start_time": "2023-06-16T14:31:54.406Z"
   },
   {
    "duration": 14,
    "start_time": "2023-06-16T14:33:00.998Z"
   },
   {
    "duration": 9,
    "start_time": "2023-06-16T14:33:52.553Z"
   },
   {
    "duration": 1118,
    "start_time": "2023-06-16T14:36:14.097Z"
   },
   {
    "duration": 88,
    "start_time": "2023-06-16T14:36:15.217Z"
   },
   {
    "duration": 7,
    "start_time": "2023-06-16T14:36:15.307Z"
   },
   {
    "duration": 30,
    "start_time": "2023-06-16T14:36:15.316Z"
   },
   {
    "duration": 59,
    "start_time": "2023-06-16T14:36:15.348Z"
   },
   {
    "duration": 3,
    "start_time": "2023-06-16T14:36:15.409Z"
   },
   {
    "duration": 28,
    "start_time": "2023-06-16T14:36:15.414Z"
   },
   {
    "duration": 7,
    "start_time": "2023-06-16T14:36:15.444Z"
   },
   {
    "duration": 8,
    "start_time": "2023-06-16T14:36:15.453Z"
   },
   {
    "duration": 7,
    "start_time": "2023-06-16T14:36:15.464Z"
   },
   {
    "duration": 12,
    "start_time": "2023-06-16T14:36:15.472Z"
   },
   {
    "duration": 355,
    "start_time": "2023-06-16T14:36:15.485Z"
   },
   {
    "duration": 14,
    "start_time": "2023-06-16T14:36:15.842Z"
   },
   {
    "duration": 30,
    "start_time": "2023-06-16T14:36:15.857Z"
   },
   {
    "duration": 26,
    "start_time": "2023-06-16T14:36:15.889Z"
   },
   {
    "duration": 30,
    "start_time": "2023-06-16T14:36:15.917Z"
   },
   {
    "duration": 18,
    "start_time": "2023-06-16T14:36:15.948Z"
   },
   {
    "duration": 11,
    "start_time": "2023-06-16T14:36:15.968Z"
   },
   {
    "duration": 145,
    "start_time": "2023-06-16T14:36:15.981Z"
   },
   {
    "duration": 20,
    "start_time": "2023-06-16T14:36:16.128Z"
   },
   {
    "duration": 19,
    "start_time": "2023-06-16T14:36:16.150Z"
   },
   {
    "duration": 15,
    "start_time": "2023-06-16T14:36:16.171Z"
   },
   {
    "duration": 171,
    "start_time": "2023-06-16T14:36:16.188Z"
   },
   {
    "duration": 14,
    "start_time": "2023-06-16T14:36:16.361Z"
   },
   {
    "duration": 28,
    "start_time": "2023-06-16T14:36:16.378Z"
   },
   {
    "duration": 13,
    "start_time": "2023-06-16T14:36:16.408Z"
   },
   {
    "duration": 34,
    "start_time": "2023-06-16T14:36:16.423Z"
   },
   {
    "duration": 494,
    "start_time": "2023-06-16T14:36:16.462Z"
   },
   {
    "duration": 231,
    "start_time": "2023-06-16T14:36:16.957Z"
   },
   {
    "duration": 356,
    "start_time": "2023-06-16T14:36:17.189Z"
   },
   {
    "duration": 232,
    "start_time": "2023-06-16T14:36:17.547Z"
   },
   {
    "duration": 414,
    "start_time": "2023-06-16T14:36:17.780Z"
   },
   {
    "duration": 117,
    "start_time": "2023-06-16T14:36:18.196Z"
   },
   {
    "duration": 0,
    "start_time": "2023-06-16T14:36:18.324Z"
   },
   {
    "duration": 0,
    "start_time": "2023-06-16T14:36:18.326Z"
   },
   {
    "duration": 0,
    "start_time": "2023-06-16T14:36:18.327Z"
   },
   {
    "duration": 0,
    "start_time": "2023-06-16T14:36:18.328Z"
   },
   {
    "duration": 0,
    "start_time": "2023-06-16T14:36:18.329Z"
   },
   {
    "duration": 0,
    "start_time": "2023-06-16T14:36:18.330Z"
   },
   {
    "duration": 0,
    "start_time": "2023-06-16T14:36:18.331Z"
   },
   {
    "duration": 0,
    "start_time": "2023-06-16T14:36:18.332Z"
   },
   {
    "duration": 0,
    "start_time": "2023-06-16T14:36:18.333Z"
   },
   {
    "duration": 0,
    "start_time": "2023-06-16T14:36:18.338Z"
   },
   {
    "duration": 0,
    "start_time": "2023-06-16T14:36:18.339Z"
   },
   {
    "duration": 0,
    "start_time": "2023-06-16T14:36:18.340Z"
   },
   {
    "duration": 0,
    "start_time": "2023-06-16T14:36:18.342Z"
   },
   {
    "duration": 0,
    "start_time": "2023-06-16T14:36:18.343Z"
   },
   {
    "duration": 0,
    "start_time": "2023-06-16T14:36:18.344Z"
   },
   {
    "duration": 1069,
    "start_time": "2023-06-16T14:37:13.806Z"
   },
   {
    "duration": 91,
    "start_time": "2023-06-16T14:37:14.877Z"
   },
   {
    "duration": 7,
    "start_time": "2023-06-16T14:37:14.970Z"
   },
   {
    "duration": 32,
    "start_time": "2023-06-16T14:37:14.979Z"
   },
   {
    "duration": 356,
    "start_time": "2023-06-16T14:37:15.013Z"
   },
   {
    "duration": 57,
    "start_time": "2023-06-16T14:37:15.370Z"
   },
   {
    "duration": 23,
    "start_time": "2023-06-16T14:37:15.435Z"
   },
   {
    "duration": 32,
    "start_time": "2023-06-16T14:37:15.460Z"
   },
   {
    "duration": 21,
    "start_time": "2023-06-16T14:37:15.494Z"
   },
   {
    "duration": 48,
    "start_time": "2023-06-16T14:37:15.518Z"
   },
   {
    "duration": 22,
    "start_time": "2023-06-16T14:37:15.568Z"
   },
   {
    "duration": 411,
    "start_time": "2023-06-16T14:37:15.592Z"
   },
   {
    "duration": 11,
    "start_time": "2023-06-16T14:37:16.005Z"
   },
   {
    "duration": 14,
    "start_time": "2023-06-16T14:37:16.018Z"
   },
   {
    "duration": 43,
    "start_time": "2023-06-16T14:37:16.034Z"
   },
   {
    "duration": 11,
    "start_time": "2023-06-16T14:37:16.079Z"
   },
   {
    "duration": 20,
    "start_time": "2023-06-16T14:37:16.091Z"
   },
   {
    "duration": 66,
    "start_time": "2023-06-16T14:37:16.113Z"
   },
   {
    "duration": 132,
    "start_time": "2023-06-16T14:37:16.181Z"
   },
   {
    "duration": 14,
    "start_time": "2023-06-16T14:37:16.314Z"
   },
   {
    "duration": 45,
    "start_time": "2023-06-16T14:37:16.329Z"
   },
   {
    "duration": 84,
    "start_time": "2023-06-16T14:37:16.376Z"
   },
   {
    "duration": 191,
    "start_time": "2023-06-16T14:37:16.462Z"
   },
   {
    "duration": 13,
    "start_time": "2023-06-16T14:37:16.655Z"
   },
   {
    "duration": 16,
    "start_time": "2023-06-16T14:37:16.670Z"
   },
   {
    "duration": 22,
    "start_time": "2023-06-16T14:37:16.687Z"
   },
   {
    "duration": 57,
    "start_time": "2023-06-16T14:37:16.710Z"
   },
   {
    "duration": 563,
    "start_time": "2023-06-16T14:37:16.770Z"
   },
   {
    "duration": 233,
    "start_time": "2023-06-16T14:37:17.342Z"
   },
   {
    "duration": 313,
    "start_time": "2023-06-16T14:37:17.576Z"
   },
   {
    "duration": 270,
    "start_time": "2023-06-16T14:37:17.890Z"
   },
   {
    "duration": 404,
    "start_time": "2023-06-16T14:37:18.163Z"
   },
   {
    "duration": 7,
    "start_time": "2023-06-16T14:37:18.568Z"
   },
   {
    "duration": 172,
    "start_time": "2023-06-16T14:37:18.576Z"
   },
   {
    "duration": 4,
    "start_time": "2023-06-16T14:37:18.750Z"
   },
   {
    "duration": 171,
    "start_time": "2023-06-16T14:37:18.755Z"
   },
   {
    "duration": 6,
    "start_time": "2023-06-16T14:37:18.927Z"
   },
   {
    "duration": 344,
    "start_time": "2023-06-16T14:37:18.934Z"
   },
   {
    "duration": 19,
    "start_time": "2023-06-16T14:37:19.279Z"
   },
   {
    "duration": 4,
    "start_time": "2023-06-16T14:37:19.299Z"
   },
   {
    "duration": 27,
    "start_time": "2023-06-16T14:37:19.304Z"
   },
   {
    "duration": 28,
    "start_time": "2023-06-16T14:37:19.333Z"
   },
   {
    "duration": 112,
    "start_time": "2023-06-16T14:37:19.363Z"
   },
   {
    "duration": 0,
    "start_time": "2023-06-16T14:37:19.477Z"
   },
   {
    "duration": 0,
    "start_time": "2023-06-16T14:37:19.479Z"
   },
   {
    "duration": 0,
    "start_time": "2023-06-16T14:37:19.480Z"
   },
   {
    "duration": 0,
    "start_time": "2023-06-16T14:37:19.481Z"
   },
   {
    "duration": 0,
    "start_time": "2023-06-16T14:37:19.483Z"
   },
   {
    "duration": 0,
    "start_time": "2023-06-16T14:37:19.484Z"
   },
   {
    "duration": 1073,
    "start_time": "2023-06-16T14:37:33.639Z"
   },
   {
    "duration": 93,
    "start_time": "2023-06-16T14:37:34.714Z"
   },
   {
    "duration": 6,
    "start_time": "2023-06-16T14:37:34.808Z"
   },
   {
    "duration": 54,
    "start_time": "2023-06-16T14:37:34.816Z"
   },
   {
    "duration": 65,
    "start_time": "2023-06-16T14:37:34.871Z"
   },
   {
    "duration": 4,
    "start_time": "2023-06-16T14:37:34.938Z"
   },
   {
    "duration": 58,
    "start_time": "2023-06-16T14:37:34.943Z"
   },
   {
    "duration": 23,
    "start_time": "2023-06-16T14:37:35.003Z"
   },
   {
    "duration": 35,
    "start_time": "2023-06-16T14:37:35.028Z"
   },
   {
    "duration": 13,
    "start_time": "2023-06-16T14:37:35.064Z"
   },
   {
    "duration": 20,
    "start_time": "2023-06-16T14:37:35.078Z"
   },
   {
    "duration": 396,
    "start_time": "2023-06-16T14:37:35.099Z"
   },
   {
    "duration": 13,
    "start_time": "2023-06-16T14:37:35.497Z"
   },
   {
    "duration": 71,
    "start_time": "2023-06-16T14:37:35.513Z"
   },
   {
    "duration": 33,
    "start_time": "2023-06-16T14:37:35.586Z"
   },
   {
    "duration": 43,
    "start_time": "2023-06-16T14:37:35.621Z"
   },
   {
    "duration": 13,
    "start_time": "2023-06-16T14:37:35.666Z"
   },
   {
    "duration": 18,
    "start_time": "2023-06-16T14:37:35.680Z"
   },
   {
    "duration": 120,
    "start_time": "2023-06-16T14:37:35.700Z"
   },
   {
    "duration": 11,
    "start_time": "2023-06-16T14:37:35.822Z"
   },
   {
    "duration": 73,
    "start_time": "2023-06-16T14:37:35.835Z"
   },
   {
    "duration": 135,
    "start_time": "2023-06-16T14:37:35.909Z"
   },
   {
    "duration": 160,
    "start_time": "2023-06-16T14:37:36.047Z"
   },
   {
    "duration": 15,
    "start_time": "2023-06-16T14:37:36.208Z"
   },
   {
    "duration": 29,
    "start_time": "2023-06-16T14:37:36.225Z"
   },
   {
    "duration": 22,
    "start_time": "2023-06-16T14:37:36.255Z"
   },
   {
    "duration": 25,
    "start_time": "2023-06-16T14:37:36.278Z"
   },
   {
    "duration": 463,
    "start_time": "2023-06-16T14:37:36.305Z"
   },
   {
    "duration": 214,
    "start_time": "2023-06-16T14:37:36.770Z"
   },
   {
    "duration": 339,
    "start_time": "2023-06-16T14:37:36.986Z"
   },
   {
    "duration": 229,
    "start_time": "2023-06-16T14:37:37.326Z"
   },
   {
    "duration": 422,
    "start_time": "2023-06-16T14:37:37.557Z"
   },
   {
    "duration": 6,
    "start_time": "2023-06-16T14:37:37.980Z"
   },
   {
    "duration": 196,
    "start_time": "2023-06-16T14:37:37.988Z"
   },
   {
    "duration": 5,
    "start_time": "2023-06-16T14:37:38.186Z"
   },
   {
    "duration": 218,
    "start_time": "2023-06-16T14:37:38.193Z"
   },
   {
    "duration": 4,
    "start_time": "2023-06-16T14:37:38.413Z"
   },
   {
    "duration": 354,
    "start_time": "2023-06-16T14:37:38.420Z"
   },
   {
    "duration": 18,
    "start_time": "2023-06-16T14:37:38.776Z"
   },
   {
    "duration": 4,
    "start_time": "2023-06-16T14:37:38.795Z"
   },
   {
    "duration": 21,
    "start_time": "2023-06-16T14:37:38.802Z"
   },
   {
    "duration": 36,
    "start_time": "2023-06-16T14:37:38.825Z"
   },
   {
    "duration": 13,
    "start_time": "2023-06-16T14:37:38.863Z"
   },
   {
    "duration": 8,
    "start_time": "2023-06-16T14:37:38.878Z"
   },
   {
    "duration": 19,
    "start_time": "2023-06-16T14:37:38.888Z"
   },
   {
    "duration": 3,
    "start_time": "2023-06-16T14:37:38.908Z"
   },
   {
    "duration": 18,
    "start_time": "2023-06-16T14:37:38.912Z"
   },
   {
    "duration": 18,
    "start_time": "2023-06-16T14:37:38.945Z"
   },
   {
    "duration": 1118,
    "start_time": "2023-06-16T14:39:13.342Z"
   },
   {
    "duration": 89,
    "start_time": "2023-06-16T14:39:14.462Z"
   },
   {
    "duration": 7,
    "start_time": "2023-06-16T14:39:14.553Z"
   },
   {
    "duration": 4,
    "start_time": "2023-06-16T14:39:14.563Z"
   },
   {
    "duration": 65,
    "start_time": "2023-06-16T14:39:14.569Z"
   },
   {
    "duration": 3,
    "start_time": "2023-06-16T14:39:14.636Z"
   },
   {
    "duration": 11,
    "start_time": "2023-06-16T14:39:14.640Z"
   },
   {
    "duration": 23,
    "start_time": "2023-06-16T14:39:14.653Z"
   },
   {
    "duration": 20,
    "start_time": "2023-06-16T14:39:14.677Z"
   },
   {
    "duration": 18,
    "start_time": "2023-06-16T14:39:14.700Z"
   },
   {
    "duration": 33,
    "start_time": "2023-06-16T14:39:14.720Z"
   },
   {
    "duration": 328,
    "start_time": "2023-06-16T14:39:14.755Z"
   },
   {
    "duration": 11,
    "start_time": "2023-06-16T14:39:15.085Z"
   },
   {
    "duration": 49,
    "start_time": "2023-06-16T14:39:15.097Z"
   },
   {
    "duration": 26,
    "start_time": "2023-06-16T14:39:15.148Z"
   },
   {
    "duration": 40,
    "start_time": "2023-06-16T14:39:15.176Z"
   },
   {
    "duration": 52,
    "start_time": "2023-06-16T14:39:15.218Z"
   },
   {
    "duration": 28,
    "start_time": "2023-06-16T14:39:15.272Z"
   },
   {
    "duration": 147,
    "start_time": "2023-06-16T14:39:15.301Z"
   },
   {
    "duration": 9,
    "start_time": "2023-06-16T14:39:15.449Z"
   },
   {
    "duration": 13,
    "start_time": "2023-06-16T14:39:15.460Z"
   },
   {
    "duration": 30,
    "start_time": "2023-06-16T14:39:15.474Z"
   },
   {
    "duration": 182,
    "start_time": "2023-06-16T14:39:15.505Z"
   },
   {
    "duration": 13,
    "start_time": "2023-06-16T14:39:15.689Z"
   },
   {
    "duration": 18,
    "start_time": "2023-06-16T14:39:15.704Z"
   },
   {
    "duration": 41,
    "start_time": "2023-06-16T14:39:15.724Z"
   },
   {
    "duration": 13,
    "start_time": "2023-06-16T14:39:15.767Z"
   },
   {
    "duration": 456,
    "start_time": "2023-06-16T14:39:15.784Z"
   },
   {
    "duration": 231,
    "start_time": "2023-06-16T14:39:16.243Z"
   },
   {
    "duration": 376,
    "start_time": "2023-06-16T14:39:16.476Z"
   },
   {
    "duration": 237,
    "start_time": "2023-06-16T14:39:16.854Z"
   },
   {
    "duration": 423,
    "start_time": "2023-06-16T14:39:17.093Z"
   },
   {
    "duration": 9,
    "start_time": "2023-06-16T14:39:17.520Z"
   },
   {
    "duration": 167,
    "start_time": "2023-06-16T14:39:17.535Z"
   },
   {
    "duration": 4,
    "start_time": "2023-06-16T14:39:17.704Z"
   },
   {
    "duration": 170,
    "start_time": "2023-06-16T14:39:17.709Z"
   },
   {
    "duration": 5,
    "start_time": "2023-06-16T14:39:17.881Z"
   },
   {
    "duration": 369,
    "start_time": "2023-06-16T14:39:17.888Z"
   },
   {
    "duration": 18,
    "start_time": "2023-06-16T14:39:18.259Z"
   },
   {
    "duration": 3,
    "start_time": "2023-06-16T14:39:18.279Z"
   },
   {
    "duration": 20,
    "start_time": "2023-06-16T14:39:18.284Z"
   },
   {
    "duration": 21,
    "start_time": "2023-06-16T14:39:18.305Z"
   },
   {
    "duration": 25,
    "start_time": "2023-06-16T14:39:18.328Z"
   },
   {
    "duration": 25,
    "start_time": "2023-06-16T14:39:18.354Z"
   },
   {
    "duration": 26,
    "start_time": "2023-06-16T14:39:18.380Z"
   },
   {
    "duration": 4,
    "start_time": "2023-06-16T14:39:18.407Z"
   },
   {
    "duration": 37,
    "start_time": "2023-06-16T14:39:18.412Z"
   },
   {
    "duration": 12,
    "start_time": "2023-06-16T14:39:18.451Z"
   },
   {
    "duration": 1214,
    "start_time": "2023-06-16T15:37:05.563Z"
   },
   {
    "duration": 83,
    "start_time": "2023-06-16T15:37:06.780Z"
   },
   {
    "duration": 10,
    "start_time": "2023-06-16T15:37:06.865Z"
   },
   {
    "duration": 6,
    "start_time": "2023-06-16T15:37:06.882Z"
   },
   {
    "duration": 47,
    "start_time": "2023-06-16T15:37:06.890Z"
   },
   {
    "duration": 12,
    "start_time": "2023-06-16T15:37:06.954Z"
   },
   {
    "duration": 5,
    "start_time": "2023-06-16T15:37:06.969Z"
   },
   {
    "duration": 5,
    "start_time": "2023-06-16T15:37:06.978Z"
   },
   {
    "duration": 8,
    "start_time": "2023-06-16T15:37:06.984Z"
   },
   {
    "duration": 4,
    "start_time": "2023-06-16T15:37:06.994Z"
   },
   {
    "duration": 10,
    "start_time": "2023-06-16T15:37:06.999Z"
   },
   {
    "duration": 390,
    "start_time": "2023-06-16T15:37:07.011Z"
   },
   {
    "duration": 12,
    "start_time": "2023-06-16T15:37:07.403Z"
   },
   {
    "duration": 11,
    "start_time": "2023-06-16T15:37:07.420Z"
   },
   {
    "duration": 51,
    "start_time": "2023-06-16T15:37:07.433Z"
   },
   {
    "duration": 11,
    "start_time": "2023-06-16T15:37:07.487Z"
   },
   {
    "duration": 8,
    "start_time": "2023-06-16T15:37:07.500Z"
   },
   {
    "duration": 8,
    "start_time": "2023-06-16T15:37:07.510Z"
   },
   {
    "duration": 204,
    "start_time": "2023-06-16T15:37:07.520Z"
   },
   {
    "duration": 10,
    "start_time": "2023-06-16T15:37:07.727Z"
   },
   {
    "duration": 21,
    "start_time": "2023-06-16T15:37:07.739Z"
   },
   {
    "duration": 23,
    "start_time": "2023-06-16T15:37:07.762Z"
   },
   {
    "duration": 204,
    "start_time": "2023-06-16T15:37:07.787Z"
   },
   {
    "duration": 12,
    "start_time": "2023-06-16T15:37:07.994Z"
   },
   {
    "duration": 4,
    "start_time": "2023-06-16T15:37:08.008Z"
   },
   {
    "duration": 5,
    "start_time": "2023-06-16T15:37:08.013Z"
   },
   {
    "duration": 10,
    "start_time": "2023-06-16T15:37:08.019Z"
   },
   {
    "duration": 568,
    "start_time": "2023-06-16T15:37:08.030Z"
   },
   {
    "duration": 223,
    "start_time": "2023-06-16T15:37:08.599Z"
   },
   {
    "duration": 367,
    "start_time": "2023-06-16T15:37:08.823Z"
   },
   {
    "duration": 246,
    "start_time": "2023-06-16T15:37:09.192Z"
   },
   {
    "duration": 471,
    "start_time": "2023-06-16T15:37:09.440Z"
   },
   {
    "duration": 6,
    "start_time": "2023-06-16T15:37:09.912Z"
   },
   {
    "duration": 191,
    "start_time": "2023-06-16T15:37:09.919Z"
   },
   {
    "duration": 5,
    "start_time": "2023-06-16T15:37:10.111Z"
   },
   {
    "duration": 181,
    "start_time": "2023-06-16T15:37:10.117Z"
   },
   {
    "duration": 6,
    "start_time": "2023-06-16T15:37:10.300Z"
   },
   {
    "duration": 392,
    "start_time": "2023-06-16T15:37:10.307Z"
   },
   {
    "duration": 23,
    "start_time": "2023-06-16T15:37:10.701Z"
   },
   {
    "duration": 3,
    "start_time": "2023-06-16T15:37:10.726Z"
   },
   {
    "duration": 27,
    "start_time": "2023-06-16T15:37:10.733Z"
   },
   {
    "duration": 17,
    "start_time": "2023-06-16T15:37:10.762Z"
   },
   {
    "duration": 14,
    "start_time": "2023-06-16T15:37:10.782Z"
   },
   {
    "duration": 14,
    "start_time": "2023-06-16T15:37:10.798Z"
   },
   {
    "duration": 27,
    "start_time": "2023-06-16T15:37:10.813Z"
   },
   {
    "duration": 4,
    "start_time": "2023-06-16T15:37:10.841Z"
   },
   {
    "duration": 14,
    "start_time": "2023-06-16T15:37:10.858Z"
   },
   {
    "duration": 29,
    "start_time": "2023-06-16T15:37:10.874Z"
   },
   {
    "duration": 20,
    "start_time": "2023-06-16T15:44:40.785Z"
   },
   {
    "duration": 100,
    "start_time": "2023-06-16T15:44:45.522Z"
   },
   {
    "duration": 8,
    "start_time": "2023-06-16T15:44:46.202Z"
   },
   {
    "duration": 1172,
    "start_time": "2023-06-16T15:44:52.829Z"
   },
   {
    "duration": 96,
    "start_time": "2023-06-16T15:44:54.003Z"
   },
   {
    "duration": 7,
    "start_time": "2023-06-16T15:44:54.101Z"
   },
   {
    "duration": 4,
    "start_time": "2023-06-16T15:44:54.109Z"
   },
   {
    "duration": 63,
    "start_time": "2023-06-16T15:44:54.115Z"
   },
   {
    "duration": 9,
    "start_time": "2023-06-16T15:44:54.181Z"
   },
   {
    "duration": 19,
    "start_time": "2023-06-16T15:44:54.192Z"
   },
   {
    "duration": 32,
    "start_time": "2023-06-16T15:44:54.212Z"
   },
   {
    "duration": 31,
    "start_time": "2023-06-16T15:44:54.245Z"
   },
   {
    "duration": 12,
    "start_time": "2023-06-16T15:44:54.278Z"
   },
   {
    "duration": 20,
    "start_time": "2023-06-16T15:44:54.293Z"
   },
   {
    "duration": 331,
    "start_time": "2023-06-16T15:44:54.315Z"
   },
   {
    "duration": 31,
    "start_time": "2023-06-16T15:44:54.654Z"
   },
   {
    "duration": 17,
    "start_time": "2023-06-16T15:44:54.691Z"
   },
   {
    "duration": 10,
    "start_time": "2023-06-16T15:44:54.710Z"
   },
   {
    "duration": 5,
    "start_time": "2023-06-16T15:44:54.722Z"
   },
   {
    "duration": 7,
    "start_time": "2023-06-16T15:44:54.728Z"
   },
   {
    "duration": 48,
    "start_time": "2023-06-16T15:44:54.737Z"
   },
   {
    "duration": 127,
    "start_time": "2023-06-16T15:44:54.789Z"
   },
   {
    "duration": 8,
    "start_time": "2023-06-16T15:44:54.917Z"
   },
   {
    "duration": 6,
    "start_time": "2023-06-16T15:44:54.927Z"
   },
   {
    "duration": 11,
    "start_time": "2023-06-16T15:44:54.934Z"
   },
   {
    "duration": 201,
    "start_time": "2023-06-16T15:44:54.946Z"
   },
   {
    "duration": 20,
    "start_time": "2023-06-16T15:44:55.149Z"
   },
   {
    "duration": 21,
    "start_time": "2023-06-16T15:44:55.171Z"
   },
   {
    "duration": 26,
    "start_time": "2023-06-16T15:44:55.194Z"
   },
   {
    "duration": 25,
    "start_time": "2023-06-16T15:44:55.222Z"
   },
   {
    "duration": 554,
    "start_time": "2023-06-16T15:44:55.248Z"
   },
   {
    "duration": 227,
    "start_time": "2023-06-16T15:44:55.804Z"
   },
   {
    "duration": 346,
    "start_time": "2023-06-16T15:44:56.032Z"
   },
   {
    "duration": 264,
    "start_time": "2023-06-16T15:44:56.380Z"
   },
   {
    "duration": 468,
    "start_time": "2023-06-16T15:44:56.645Z"
   },
   {
    "duration": 6,
    "start_time": "2023-06-16T15:44:57.115Z"
   },
   {
    "duration": 198,
    "start_time": "2023-06-16T15:44:57.122Z"
   },
   {
    "duration": 9,
    "start_time": "2023-06-16T15:44:57.322Z"
   },
   {
    "duration": 193,
    "start_time": "2023-06-16T15:44:57.333Z"
   },
   {
    "duration": 6,
    "start_time": "2023-06-16T15:44:57.528Z"
   },
   {
    "duration": 390,
    "start_time": "2023-06-16T15:44:57.536Z"
   },
   {
    "duration": 40,
    "start_time": "2023-06-16T15:44:57.928Z"
   },
   {
    "duration": 10,
    "start_time": "2023-06-16T15:44:57.977Z"
   },
   {
    "duration": 7,
    "start_time": "2023-06-16T15:44:57.994Z"
   },
   {
    "duration": 13,
    "start_time": "2023-06-16T15:44:58.003Z"
   },
   {
    "duration": 19,
    "start_time": "2023-06-16T15:44:58.017Z"
   },
   {
    "duration": 28,
    "start_time": "2023-06-16T15:44:58.037Z"
   },
   {
    "duration": 39,
    "start_time": "2023-06-16T15:44:58.067Z"
   },
   {
    "duration": 3,
    "start_time": "2023-06-16T15:44:58.108Z"
   },
   {
    "duration": 9,
    "start_time": "2023-06-16T15:44:58.112Z"
   },
   {
    "duration": 8,
    "start_time": "2023-06-16T15:44:58.123Z"
   },
   {
    "duration": 1316,
    "start_time": "2023-06-16T16:02:26.706Z"
   },
   {
    "duration": 73,
    "start_time": "2023-06-16T16:02:28.024Z"
   },
   {
    "duration": 10,
    "start_time": "2023-06-16T16:02:28.099Z"
   },
   {
    "duration": 5,
    "start_time": "2023-06-16T16:02:28.112Z"
   },
   {
    "duration": 92,
    "start_time": "2023-06-16T16:02:28.119Z"
   },
   {
    "duration": 4,
    "start_time": "2023-06-16T16:02:28.214Z"
   },
   {
    "duration": 11,
    "start_time": "2023-06-16T16:02:28.220Z"
   },
   {
    "duration": 8,
    "start_time": "2023-06-16T16:02:28.233Z"
   },
   {
    "duration": 10,
    "start_time": "2023-06-16T16:02:28.243Z"
   },
   {
    "duration": 15,
    "start_time": "2023-06-16T16:02:28.273Z"
   },
   {
    "duration": 15,
    "start_time": "2023-06-16T16:02:28.291Z"
   },
   {
    "duration": 395,
    "start_time": "2023-06-16T16:02:28.308Z"
   },
   {
    "duration": 15,
    "start_time": "2023-06-16T16:02:28.705Z"
   },
   {
    "duration": 14,
    "start_time": "2023-06-16T16:02:28.722Z"
   },
   {
    "duration": 35,
    "start_time": "2023-06-16T16:02:28.760Z"
   },
   {
    "duration": 6,
    "start_time": "2023-06-16T16:02:28.797Z"
   },
   {
    "duration": 8,
    "start_time": "2023-06-16T16:02:28.804Z"
   },
   {
    "duration": 8,
    "start_time": "2023-06-16T16:02:28.814Z"
   },
   {
    "duration": 157,
    "start_time": "2023-06-16T16:02:28.824Z"
   },
   {
    "duration": 14,
    "start_time": "2023-06-16T16:02:28.990Z"
   },
   {
    "duration": 8,
    "start_time": "2023-06-16T16:02:29.008Z"
   },
   {
    "duration": 18,
    "start_time": "2023-06-16T16:02:29.018Z"
   },
   {
    "duration": 261,
    "start_time": "2023-06-16T16:02:29.038Z"
   },
   {
    "duration": 11,
    "start_time": "2023-06-16T16:02:29.301Z"
   },
   {
    "duration": 6,
    "start_time": "2023-06-16T16:02:29.314Z"
   },
   {
    "duration": 9,
    "start_time": "2023-06-16T16:02:29.322Z"
   },
   {
    "duration": 8,
    "start_time": "2023-06-16T16:02:29.332Z"
   },
   {
    "duration": 633,
    "start_time": "2023-06-16T16:02:29.364Z"
   },
   {
    "duration": 322,
    "start_time": "2023-06-16T16:02:29.998Z"
   },
   {
    "duration": 367,
    "start_time": "2023-06-16T16:02:30.322Z"
   },
   {
    "duration": 300,
    "start_time": "2023-06-16T16:02:30.691Z"
   },
   {
    "duration": 514,
    "start_time": "2023-06-16T16:02:30.995Z"
   },
   {
    "duration": 8,
    "start_time": "2023-06-16T16:02:31.511Z"
   },
   {
    "duration": 241,
    "start_time": "2023-06-16T16:02:31.521Z"
   },
   {
    "duration": 13,
    "start_time": "2023-06-16T16:02:31.764Z"
   },
   {
    "duration": 226,
    "start_time": "2023-06-16T16:02:31.779Z"
   },
   {
    "duration": 6,
    "start_time": "2023-06-16T16:02:32.007Z"
   },
   {
    "duration": 537,
    "start_time": "2023-06-16T16:02:32.015Z"
   },
   {
    "duration": 59,
    "start_time": "2023-06-16T16:02:32.554Z"
   },
   {
    "duration": 7,
    "start_time": "2023-06-16T16:02:32.615Z"
   },
   {
    "duration": 56,
    "start_time": "2023-06-16T16:02:32.624Z"
   },
   {
    "duration": 21,
    "start_time": "2023-06-16T16:02:32.684Z"
   },
   {
    "duration": 18,
    "start_time": "2023-06-16T16:02:32.709Z"
   },
   {
    "duration": 21,
    "start_time": "2023-06-16T16:02:32.729Z"
   },
   {
    "duration": 77,
    "start_time": "2023-06-16T16:02:32.752Z"
   },
   {
    "duration": 17,
    "start_time": "2023-06-16T16:02:32.833Z"
   },
   {
    "duration": 24,
    "start_time": "2023-06-16T16:02:32.856Z"
   },
   {
    "duration": 29,
    "start_time": "2023-06-16T16:02:32.883Z"
   },
   {
    "duration": 213,
    "start_time": "2023-06-16T16:09:57.488Z"
   },
   {
    "duration": 134,
    "start_time": "2023-06-16T16:10:27.910Z"
   },
   {
    "duration": 123,
    "start_time": "2023-06-16T16:12:17.626Z"
   },
   {
    "duration": 153,
    "start_time": "2023-06-16T16:12:25.714Z"
   },
   {
    "duration": 124,
    "start_time": "2023-06-16T16:16:42.260Z"
   },
   {
    "duration": 131,
    "start_time": "2023-06-16T16:17:01.484Z"
   },
   {
    "duration": 124,
    "start_time": "2023-06-16T16:17:47.494Z"
   },
   {
    "duration": 131,
    "start_time": "2023-06-16T16:22:21.765Z"
   },
   {
    "duration": 131,
    "start_time": "2023-06-16T16:27:03.235Z"
   },
   {
    "duration": 245,
    "start_time": "2023-06-16T17:13:07.511Z"
   },
   {
    "duration": 218,
    "start_time": "2023-06-16T17:13:21.490Z"
   },
   {
    "duration": 5,
    "start_time": "2023-06-16T17:15:53.839Z"
   },
   {
    "duration": 1102,
    "start_time": "2023-06-16T19:12:30.919Z"
   },
   {
    "duration": 211,
    "start_time": "2023-06-16T19:12:32.024Z"
   },
   {
    "duration": 8,
    "start_time": "2023-06-16T19:12:32.236Z"
   },
   {
    "duration": 46,
    "start_time": "2023-06-16T19:12:32.245Z"
   },
   {
    "duration": 100,
    "start_time": "2023-06-16T19:12:32.294Z"
   },
   {
    "duration": 4,
    "start_time": "2023-06-16T19:12:32.395Z"
   },
   {
    "duration": 62,
    "start_time": "2023-06-16T19:12:32.400Z"
   },
   {
    "duration": 52,
    "start_time": "2023-06-16T19:12:32.464Z"
   },
   {
    "duration": 26,
    "start_time": "2023-06-16T19:12:32.518Z"
   },
   {
    "duration": 26,
    "start_time": "2023-06-16T19:12:32.545Z"
   },
   {
    "duration": 36,
    "start_time": "2023-06-16T19:12:32.572Z"
   },
   {
    "duration": 399,
    "start_time": "2023-06-16T19:12:32.610Z"
   },
   {
    "duration": 11,
    "start_time": "2023-06-16T19:12:33.012Z"
   },
   {
    "duration": 39,
    "start_time": "2023-06-16T19:12:33.027Z"
   },
   {
    "duration": 15,
    "start_time": "2023-06-16T19:12:33.067Z"
   },
   {
    "duration": 12,
    "start_time": "2023-06-16T19:12:33.083Z"
   },
   {
    "duration": 16,
    "start_time": "2023-06-16T19:12:33.097Z"
   },
   {
    "duration": 10,
    "start_time": "2023-06-16T19:12:33.115Z"
   },
   {
    "duration": 144,
    "start_time": "2023-06-16T19:12:33.127Z"
   },
   {
    "duration": 10,
    "start_time": "2023-06-16T19:12:33.272Z"
   },
   {
    "duration": 10,
    "start_time": "2023-06-16T19:12:33.284Z"
   },
   {
    "duration": 27,
    "start_time": "2023-06-16T19:12:33.295Z"
   },
   {
    "duration": 166,
    "start_time": "2023-06-16T19:12:33.324Z"
   },
   {
    "duration": 12,
    "start_time": "2023-06-16T19:12:33.492Z"
   },
   {
    "duration": 16,
    "start_time": "2023-06-16T19:12:33.506Z"
   },
   {
    "duration": 15,
    "start_time": "2023-06-16T19:12:33.524Z"
   },
   {
    "duration": 6,
    "start_time": "2023-06-16T19:12:33.541Z"
   },
   {
    "duration": 462,
    "start_time": "2023-06-16T19:12:33.548Z"
   },
   {
    "duration": 237,
    "start_time": "2023-06-16T19:12:34.012Z"
   },
   {
    "duration": 310,
    "start_time": "2023-06-16T19:12:34.251Z"
   },
   {
    "duration": 232,
    "start_time": "2023-06-16T19:12:34.563Z"
   },
   {
    "duration": 406,
    "start_time": "2023-06-16T19:12:34.797Z"
   },
   {
    "duration": 19,
    "start_time": "2023-06-16T19:12:35.204Z"
   },
   {
    "duration": 187,
    "start_time": "2023-06-16T19:12:35.224Z"
   },
   {
    "duration": 7,
    "start_time": "2023-06-16T19:12:35.414Z"
   },
   {
    "duration": 248,
    "start_time": "2023-06-16T19:12:35.423Z"
   },
   {
    "duration": 5,
    "start_time": "2023-06-16T19:12:35.673Z"
   },
   {
    "duration": 357,
    "start_time": "2023-06-16T19:12:35.680Z"
   },
   {
    "duration": 19,
    "start_time": "2023-06-16T19:12:36.039Z"
   },
   {
    "duration": 17,
    "start_time": "2023-06-16T19:12:36.060Z"
   },
   {
    "duration": 19,
    "start_time": "2023-06-16T19:12:36.081Z"
   },
   {
    "duration": 44,
    "start_time": "2023-06-16T19:12:36.101Z"
   },
   {
    "duration": 31,
    "start_time": "2023-06-16T19:12:36.147Z"
   },
   {
    "duration": 49,
    "start_time": "2023-06-16T19:12:36.181Z"
   },
   {
    "duration": 66,
    "start_time": "2023-06-16T19:12:36.233Z"
   },
   {
    "duration": 5,
    "start_time": "2023-06-16T19:12:36.301Z"
   },
   {
    "duration": 23,
    "start_time": "2023-06-16T19:12:36.308Z"
   },
   {
    "duration": 42,
    "start_time": "2023-06-16T19:12:36.333Z"
   },
   {
    "duration": 1074,
    "start_time": "2023-06-16T19:19:21.293Z"
   },
   {
    "duration": 79,
    "start_time": "2023-06-16T19:19:22.370Z"
   },
   {
    "duration": 6,
    "start_time": "2023-06-16T19:19:22.451Z"
   },
   {
    "duration": 17,
    "start_time": "2023-06-16T19:19:22.460Z"
   },
   {
    "duration": 70,
    "start_time": "2023-06-16T19:19:22.479Z"
   },
   {
    "duration": 10,
    "start_time": "2023-06-16T19:19:22.550Z"
   },
   {
    "duration": 36,
    "start_time": "2023-06-16T19:19:22.562Z"
   },
   {
    "duration": 42,
    "start_time": "2023-06-16T19:19:22.600Z"
   },
   {
    "duration": 19,
    "start_time": "2023-06-16T19:19:22.644Z"
   },
   {
    "duration": 7,
    "start_time": "2023-06-16T19:19:22.666Z"
   },
   {
    "duration": 18,
    "start_time": "2023-06-16T19:19:22.674Z"
   },
   {
    "duration": 349,
    "start_time": "2023-06-16T19:19:22.694Z"
   },
   {
    "duration": 13,
    "start_time": "2023-06-16T19:19:23.045Z"
   },
   {
    "duration": 15,
    "start_time": "2023-06-16T19:19:23.059Z"
   },
   {
    "duration": 20,
    "start_time": "2023-06-16T19:19:23.076Z"
   },
   {
    "duration": 15,
    "start_time": "2023-06-16T19:19:23.097Z"
   },
   {
    "duration": 15,
    "start_time": "2023-06-16T19:19:23.113Z"
   },
   {
    "duration": 14,
    "start_time": "2023-06-16T19:19:23.130Z"
   },
   {
    "duration": 143,
    "start_time": "2023-06-16T19:19:23.146Z"
   },
   {
    "duration": 9,
    "start_time": "2023-06-16T19:19:23.291Z"
   },
   {
    "duration": 19,
    "start_time": "2023-06-16T19:19:23.301Z"
   },
   {
    "duration": 26,
    "start_time": "2023-06-16T19:19:23.322Z"
   },
   {
    "duration": 158,
    "start_time": "2023-06-16T19:19:23.350Z"
   },
   {
    "duration": 17,
    "start_time": "2023-06-16T19:19:23.510Z"
   },
   {
    "duration": 23,
    "start_time": "2023-06-16T19:19:23.529Z"
   },
   {
    "duration": 12,
    "start_time": "2023-06-16T19:19:23.553Z"
   },
   {
    "duration": 8,
    "start_time": "2023-06-16T19:19:23.567Z"
   },
   {
    "duration": 468,
    "start_time": "2023-06-16T19:19:23.578Z"
   },
   {
    "duration": 205,
    "start_time": "2023-06-16T19:19:24.048Z"
   },
   {
    "duration": 285,
    "start_time": "2023-06-16T19:19:24.255Z"
   },
   {
    "duration": 231,
    "start_time": "2023-06-16T19:19:24.541Z"
   },
   {
    "duration": 406,
    "start_time": "2023-06-16T19:19:24.774Z"
   },
   {
    "duration": 6,
    "start_time": "2023-06-16T19:19:25.181Z"
   },
   {
    "duration": 201,
    "start_time": "2023-06-16T19:19:25.189Z"
   },
   {
    "duration": 6,
    "start_time": "2023-06-16T19:19:25.392Z"
   },
   {
    "duration": 298,
    "start_time": "2023-06-16T19:19:25.400Z"
   },
   {
    "duration": 5,
    "start_time": "2023-06-16T19:19:25.700Z"
   },
   {
    "duration": 349,
    "start_time": "2023-06-16T19:19:25.707Z"
   },
   {
    "duration": 20,
    "start_time": "2023-06-16T19:19:26.057Z"
   },
   {
    "duration": 4,
    "start_time": "2023-06-16T19:19:26.079Z"
   },
   {
    "duration": 18,
    "start_time": "2023-06-16T19:19:26.085Z"
   },
   {
    "duration": 24,
    "start_time": "2023-06-16T19:19:26.104Z"
   },
   {
    "duration": 30,
    "start_time": "2023-06-16T19:19:26.130Z"
   },
   {
    "duration": 17,
    "start_time": "2023-06-16T19:19:26.161Z"
   },
   {
    "duration": 23,
    "start_time": "2023-06-16T19:19:26.180Z"
   },
   {
    "duration": 8,
    "start_time": "2023-06-16T19:19:26.204Z"
   },
   {
    "duration": 14,
    "start_time": "2023-06-16T19:19:26.213Z"
   },
   {
    "duration": 27,
    "start_time": "2023-06-16T19:19:26.229Z"
   },
   {
    "duration": 1254,
    "start_time": "2023-06-17T09:07:09.687Z"
   },
   {
    "duration": 87,
    "start_time": "2023-06-17T09:07:10.944Z"
   },
   {
    "duration": 9,
    "start_time": "2023-06-17T09:07:11.033Z"
   },
   {
    "duration": 6,
    "start_time": "2023-06-17T09:07:11.044Z"
   },
   {
    "duration": 112,
    "start_time": "2023-06-17T09:07:11.053Z"
   },
   {
    "duration": 4,
    "start_time": "2023-06-17T09:07:11.168Z"
   },
   {
    "duration": 32,
    "start_time": "2023-06-17T09:07:11.174Z"
   },
   {
    "duration": 16,
    "start_time": "2023-06-17T09:07:11.208Z"
   },
   {
    "duration": 25,
    "start_time": "2023-06-17T09:07:11.227Z"
   },
   {
    "duration": 8,
    "start_time": "2023-06-17T09:07:11.254Z"
   },
   {
    "duration": 28,
    "start_time": "2023-06-17T09:07:11.265Z"
   },
   {
    "duration": 370,
    "start_time": "2023-06-17T09:07:11.295Z"
   },
   {
    "duration": 19,
    "start_time": "2023-06-17T09:07:11.676Z"
   },
   {
    "duration": 31,
    "start_time": "2023-06-17T09:07:11.698Z"
   },
   {
    "duration": 26,
    "start_time": "2023-06-17T09:07:11.731Z"
   },
   {
    "duration": 10,
    "start_time": "2023-06-17T09:07:11.760Z"
   },
   {
    "duration": 34,
    "start_time": "2023-06-17T09:07:11.771Z"
   },
   {
    "duration": 8,
    "start_time": "2023-06-17T09:07:11.813Z"
   },
   {
    "duration": 171,
    "start_time": "2023-06-17T09:07:11.823Z"
   },
   {
    "duration": 11,
    "start_time": "2023-06-17T09:07:11.996Z"
   },
   {
    "duration": 29,
    "start_time": "2023-06-17T09:07:12.008Z"
   },
   {
    "duration": 23,
    "start_time": "2023-06-17T09:07:12.039Z"
   },
   {
    "duration": 234,
    "start_time": "2023-06-17T09:07:12.064Z"
   },
   {
    "duration": 15,
    "start_time": "2023-06-17T09:07:12.300Z"
   },
   {
    "duration": 17,
    "start_time": "2023-06-17T09:07:12.317Z"
   },
   {
    "duration": 13,
    "start_time": "2023-06-17T09:07:12.336Z"
   },
   {
    "duration": 11,
    "start_time": "2023-06-17T09:07:12.351Z"
   },
   {
    "duration": 533,
    "start_time": "2023-06-17T09:07:12.365Z"
   },
   {
    "duration": 254,
    "start_time": "2023-06-17T09:07:12.900Z"
   },
   {
    "duration": 360,
    "start_time": "2023-06-17T09:07:13.156Z"
   },
   {
    "duration": 283,
    "start_time": "2023-06-17T09:07:13.518Z"
   },
   {
    "duration": 441,
    "start_time": "2023-06-17T09:07:13.803Z"
   },
   {
    "duration": 8,
    "start_time": "2023-06-17T09:07:14.246Z"
   },
   {
    "duration": 179,
    "start_time": "2023-06-17T09:07:14.257Z"
   },
   {
    "duration": 6,
    "start_time": "2023-06-17T09:07:14.438Z"
   },
   {
    "duration": 247,
    "start_time": "2023-06-17T09:07:14.446Z"
   },
   {
    "duration": 6,
    "start_time": "2023-06-17T09:07:14.696Z"
   },
   {
    "duration": 348,
    "start_time": "2023-06-17T09:07:14.704Z"
   },
   {
    "duration": 39,
    "start_time": "2023-06-17T09:07:15.054Z"
   },
   {
    "duration": 31,
    "start_time": "2023-06-17T09:07:15.096Z"
   },
   {
    "duration": 33,
    "start_time": "2023-06-17T09:07:15.131Z"
   },
   {
    "duration": 32,
    "start_time": "2023-06-17T09:07:15.167Z"
   },
   {
    "duration": 28,
    "start_time": "2023-06-17T09:07:15.202Z"
   },
   {
    "duration": 22,
    "start_time": "2023-06-17T09:07:15.232Z"
   },
   {
    "duration": 47,
    "start_time": "2023-06-17T09:07:15.255Z"
   },
   {
    "duration": 15,
    "start_time": "2023-06-17T09:07:15.303Z"
   },
   {
    "duration": 32,
    "start_time": "2023-06-17T09:07:15.319Z"
   },
   {
    "duration": 44,
    "start_time": "2023-06-17T09:07:15.353Z"
   },
   {
    "duration": 1155,
    "start_time": "2023-06-17T09:37:49.484Z"
   },
   {
    "duration": 83,
    "start_time": "2023-06-17T09:37:50.640Z"
   },
   {
    "duration": 7,
    "start_time": "2023-06-17T09:37:50.724Z"
   },
   {
    "duration": 9,
    "start_time": "2023-06-17T09:37:50.733Z"
   },
   {
    "duration": 77,
    "start_time": "2023-06-17T09:37:50.744Z"
   },
   {
    "duration": 3,
    "start_time": "2023-06-17T09:37:50.823Z"
   },
   {
    "duration": 62,
    "start_time": "2023-06-17T09:37:50.828Z"
   },
   {
    "duration": 32,
    "start_time": "2023-06-17T09:37:50.893Z"
   },
   {
    "duration": 24,
    "start_time": "2023-06-17T09:37:50.927Z"
   },
   {
    "duration": 19,
    "start_time": "2023-06-17T09:37:50.953Z"
   },
   {
    "duration": 24,
    "start_time": "2023-06-17T09:37:50.982Z"
   },
   {
    "duration": 326,
    "start_time": "2023-06-17T09:37:51.008Z"
   },
   {
    "duration": 12,
    "start_time": "2023-06-17T09:37:51.336Z"
   },
   {
    "duration": 40,
    "start_time": "2023-06-17T09:37:51.351Z"
   },
   {
    "duration": 23,
    "start_time": "2023-06-17T09:37:51.393Z"
   },
   {
    "duration": 18,
    "start_time": "2023-06-17T09:37:51.418Z"
   },
   {
    "duration": 28,
    "start_time": "2023-06-17T09:37:51.438Z"
   },
   {
    "duration": 40,
    "start_time": "2023-06-17T09:37:51.468Z"
   },
   {
    "duration": 158,
    "start_time": "2023-06-17T09:37:51.510Z"
   },
   {
    "duration": 19,
    "start_time": "2023-06-17T09:37:51.670Z"
   },
   {
    "duration": 18,
    "start_time": "2023-06-17T09:37:51.693Z"
   },
   {
    "duration": 20,
    "start_time": "2023-06-17T09:37:51.713Z"
   },
   {
    "duration": 184,
    "start_time": "2023-06-17T09:37:51.735Z"
   },
   {
    "duration": 11,
    "start_time": "2023-06-17T09:37:51.921Z"
   },
   {
    "duration": 8,
    "start_time": "2023-06-17T09:37:51.934Z"
   },
   {
    "duration": 29,
    "start_time": "2023-06-17T09:37:51.944Z"
   },
   {
    "duration": 44,
    "start_time": "2023-06-17T09:37:51.975Z"
   },
   {
    "duration": 500,
    "start_time": "2023-06-17T09:37:52.021Z"
   },
   {
    "duration": 229,
    "start_time": "2023-06-17T09:37:52.523Z"
   },
   {
    "duration": 351,
    "start_time": "2023-06-17T09:37:52.754Z"
   },
   {
    "duration": 244,
    "start_time": "2023-06-17T09:37:53.107Z"
   },
   {
    "duration": 473,
    "start_time": "2023-06-17T09:37:53.353Z"
   },
   {
    "duration": 9,
    "start_time": "2023-06-17T09:37:53.828Z"
   },
   {
    "duration": 226,
    "start_time": "2023-06-17T09:37:53.838Z"
   },
   {
    "duration": 21,
    "start_time": "2023-06-17T09:37:54.066Z"
   },
   {
    "duration": 235,
    "start_time": "2023-06-17T09:37:54.089Z"
   },
   {
    "duration": 4,
    "start_time": "2023-06-17T09:37:54.326Z"
   },
   {
    "duration": 357,
    "start_time": "2023-06-17T09:37:54.332Z"
   },
   {
    "duration": 22,
    "start_time": "2023-06-17T09:37:54.691Z"
   },
   {
    "duration": 19,
    "start_time": "2023-06-17T09:37:54.715Z"
   },
   {
    "duration": 9,
    "start_time": "2023-06-17T09:37:54.738Z"
   },
   {
    "duration": 7,
    "start_time": "2023-06-17T09:37:54.749Z"
   },
   {
    "duration": 10,
    "start_time": "2023-06-17T09:37:54.757Z"
   },
   {
    "duration": 21,
    "start_time": "2023-06-17T09:37:54.769Z"
   },
   {
    "duration": 27,
    "start_time": "2023-06-17T09:37:54.792Z"
   },
   {
    "duration": 4,
    "start_time": "2023-06-17T09:37:54.820Z"
   },
   {
    "duration": 14,
    "start_time": "2023-06-17T09:37:54.826Z"
   },
   {
    "duration": 154,
    "start_time": "2023-06-17T09:37:54.841Z"
   }
  ],
  "kernelspec": {
   "display_name": "Python 3 (ipykernel)",
   "language": "python",
   "name": "python3"
  },
  "language_info": {
   "codemirror_mode": {
    "name": "ipython",
    "version": 3
   },
   "file_extension": ".py",
   "mimetype": "text/x-python",
   "name": "python",
   "nbconvert_exporter": "python",
   "pygments_lexer": "ipython3",
   "version": "3.9.13"
  },
  "toc": {
   "base_numbering": 1,
   "nav_menu": {},
   "number_sections": true,
   "sideBar": true,
   "skip_h1_title": true,
   "title_cell": "Table of Contents",
   "title_sidebar": "Contents",
   "toc_cell": false,
   "toc_position": {},
   "toc_section_display": true,
   "toc_window_display": false
  }
 },
 "nbformat": 4,
 "nbformat_minor": 2
}
